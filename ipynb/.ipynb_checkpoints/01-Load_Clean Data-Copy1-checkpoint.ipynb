{
 "cells": [
  {
   "cell_type": "code",
   "execution_count": 1,
   "metadata": {
    "collapsed": true
   },
   "outputs": [],
   "source": [
    "import psycopg2 as pg2\n",
    "from psycopg2.extras import RealDictCursor"
   ]
  },
  {
   "cell_type": "code",
   "execution_count": 2,
   "metadata": {
    "collapsed": true
   },
   "outputs": [],
   "source": [
    "import pandas as pd\n",
    "import numpy as np\n",
    "import seaborn as sns\n",
    "import matplotlib.pyplot as plt\n",
    "%matplotlib inline"
   ]
  },
  {
   "cell_type": "code",
   "execution_count": 3,
   "metadata": {
    "collapsed": true
   },
   "outputs": [],
   "source": [
    "def connect_to_db():\n",
    "    con = pg2.connect(host='localhost',\n",
    "                      dbname='Learning',\n",
    "                      user='postgres',\n",
    "                      password = 'bubulu$223')\n",
    "    cur = con.cursor(cursor_factory=RealDictCursor)\n",
    "    return con, cur\n",
    "\n",
    "def query_to_dictionary(query, fetch_res=True):\n",
    "    con, cur = connect_to_db()\n",
    "    cur.execute(query)\n",
    "    if fetch_res:\n",
    "        results = cur.fetchall()\n",
    "    else:\n",
    "        results = None\n",
    "    con.close()\n",
    "    return results\n",
    "\n",
    "def query_to_dataframe(query):\n",
    "    return DataFrame(query_to_dictionary(query))"
   ]
  },
  {
   "cell_type": "code",
   "execution_count": 4,
   "metadata": {
    "scrolled": false
   },
   "outputs": [
    {
     "data": {
      "text/html": [
       "<div>\n",
       "<style>\n",
       "    .dataframe thead tr:only-child th {\n",
       "        text-align: right;\n",
       "    }\n",
       "\n",
       "    .dataframe thead th {\n",
       "        text-align: left;\n",
       "    }\n",
       "\n",
       "    .dataframe tbody tr th {\n",
       "        vertical-align: top;\n",
       "    }\n",
       "</style>\n",
       "<table border=\"1\" class=\"dataframe\">\n",
       "  <thead>\n",
       "    <tr style=\"text-align: right;\">\n",
       "      <th></th>\n",
       "      <th>1stFlrSF</th>\n",
       "      <th>2ndFlrSF</th>\n",
       "      <th>3SsnPorch</th>\n",
       "      <th>alley</th>\n",
       "      <th>bedroomabvgr</th>\n",
       "      <th>bldgtype</th>\n",
       "      <th>bsmtcond</th>\n",
       "      <th>bsmtexposure</th>\n",
       "      <th>bsmtfinsf1</th>\n",
       "      <th>bsmtfinsf2</th>\n",
       "      <th>...</th>\n",
       "      <th>saletype</th>\n",
       "      <th>screenporch</th>\n",
       "      <th>street</th>\n",
       "      <th>totalbsmtsf</th>\n",
       "      <th>totrmsabvgrd</th>\n",
       "      <th>utilities</th>\n",
       "      <th>wooddecksf</th>\n",
       "      <th>yearbuilt</th>\n",
       "      <th>yearremodadd</th>\n",
       "      <th>yrsold</th>\n",
       "    </tr>\n",
       "  </thead>\n",
       "  <tbody>\n",
       "    <tr>\n",
       "      <th>0</th>\n",
       "      <td>856</td>\n",
       "      <td>854</td>\n",
       "      <td>0</td>\n",
       "      <td>None</td>\n",
       "      <td>3</td>\n",
       "      <td>1Fam</td>\n",
       "      <td>TA</td>\n",
       "      <td>No</td>\n",
       "      <td>706</td>\n",
       "      <td>0</td>\n",
       "      <td>...</td>\n",
       "      <td>WD</td>\n",
       "      <td>0</td>\n",
       "      <td>Pave</td>\n",
       "      <td>856</td>\n",
       "      <td>8</td>\n",
       "      <td>AllPub</td>\n",
       "      <td>0</td>\n",
       "      <td>2003</td>\n",
       "      <td>2003</td>\n",
       "      <td>2008</td>\n",
       "    </tr>\n",
       "    <tr>\n",
       "      <th>1</th>\n",
       "      <td>1262</td>\n",
       "      <td>0</td>\n",
       "      <td>0</td>\n",
       "      <td>None</td>\n",
       "      <td>3</td>\n",
       "      <td>1Fam</td>\n",
       "      <td>TA</td>\n",
       "      <td>Gd</td>\n",
       "      <td>978</td>\n",
       "      <td>0</td>\n",
       "      <td>...</td>\n",
       "      <td>WD</td>\n",
       "      <td>0</td>\n",
       "      <td>Pave</td>\n",
       "      <td>1262</td>\n",
       "      <td>6</td>\n",
       "      <td>AllPub</td>\n",
       "      <td>298</td>\n",
       "      <td>1976</td>\n",
       "      <td>1976</td>\n",
       "      <td>2007</td>\n",
       "    </tr>\n",
       "  </tbody>\n",
       "</table>\n",
       "<p>2 rows × 81 columns</p>\n",
       "</div>"
      ],
      "text/plain": [
       "   1stFlrSF  2ndFlrSF  3SsnPorch alley  bedroomabvgr bldgtype bsmtcond  \\\n",
       "0       856       854          0  None             3     1Fam       TA   \n",
       "1      1262         0          0  None             3     1Fam       TA   \n",
       "\n",
       "  bsmtexposure  bsmtfinsf1  bsmtfinsf2  ...   saletype screenporch  street  \\\n",
       "0           No         706           0  ...         WD           0    Pave   \n",
       "1           Gd         978           0  ...         WD           0    Pave   \n",
       "\n",
       "   totalbsmtsf totrmsabvgrd  utilities wooddecksf yearbuilt yearremodadd  \\\n",
       "0          856            8     AllPub          0      2003         2003   \n",
       "1         1262            6     AllPub        298      1976         1976   \n",
       "\n",
       "  yrsold  \n",
       "0   2008  \n",
       "1   2007  \n",
       "\n",
       "[2 rows x 81 columns]"
      ]
     },
     "execution_count": 4,
     "metadata": {},
     "output_type": "execute_result"
    }
   ],
   "source": [
    "connection, cursor = connect_to_db()\n",
    "result = cursor.execute(\"SELECT * FROM train LIMIT 2;\")\n",
    "pd.DataFrame(cursor.fetchall())"
   ]
  },
  {
   "cell_type": "code",
   "execution_count": 5,
   "metadata": {},
   "outputs": [
    {
     "data": {
      "text/plain": [
       "[{'1stFlrSF': 856,\n",
       "  '2ndFlrSF': 854,\n",
       "  '3SsnPorch': 0,\n",
       "  'alley': None,\n",
       "  'bedroomabvgr': 3,\n",
       "  'bldgtype': '1Fam',\n",
       "  'bsmtcond': 'TA',\n",
       "  'bsmtexposure': 'No',\n",
       "  'bsmtfinsf1': 706,\n",
       "  'bsmtfinsf2': 0,\n",
       "  'bsmtfintype1': 'GLQ',\n",
       "  'bsmtfintype2': 'Unf',\n",
       "  'bsmtfullbath': 1,\n",
       "  'bsmthalfbath': 0,\n",
       "  'bsmtqual': 'Gd',\n",
       "  'bsmtunfsf': 150,\n",
       "  'centralair': 'Y',\n",
       "  'condition1': 'Norm',\n",
       "  'condition2': 'Norm',\n",
       "  'electrical': 'SBrkr',\n",
       "  'enclosedporch': 0,\n",
       "  'extercond': 'TA',\n",
       "  'exterior1st': 'VinylSd',\n",
       "  'exterior2nd': 'VinylSd',\n",
       "  'exterqual': 'Gd',\n",
       "  'fence': None,\n",
       "  'fireplacequ': None,\n",
       "  'fireplaces': 0,\n",
       "  'foundation': 'PConc',\n",
       "  'fullbath': 2,\n",
       "  'functional': 'Typ',\n",
       "  'garagearea': 548,\n",
       "  'garagecars': 2,\n",
       "  'garagecond': 'TA',\n",
       "  'garagefinish': 'RFn',\n",
       "  'garagequal': 'TA',\n",
       "  'garagetype': 'Attchd',\n",
       "  'garageyrblt': 2003.0,\n",
       "  'grlivarea': 1710,\n",
       "  'halfbath': 1,\n",
       "  'heating': 'GasA',\n",
       "  'heatingqc': 'Ex',\n",
       "  'housestyle': '2Story',\n",
       "  'id': 1,\n",
       "  'kitchenabvgr': 1,\n",
       "  'kitchenqual': 'Gd',\n",
       "  'landcontour': 'Lvl',\n",
       "  'landslope': 'Gtl',\n",
       "  'lotarea': 8450,\n",
       "  'lotconfig': 'Inside',\n",
       "  'lotfrontage': 65.0,\n",
       "  'lotshape': 'Reg',\n",
       "  'lowqualfinsf': 0,\n",
       "  'masvnrarea': 196.0,\n",
       "  'masvnrtype': 'BrkFace',\n",
       "  'miscfeature': None,\n",
       "  'miscval': 0,\n",
       "  'mosold': 2,\n",
       "  'mssubclass': 60,\n",
       "  'mszoning': 'RL',\n",
       "  'neighborhood': 'CollgCr',\n",
       "  'openporchsf': 61,\n",
       "  'overallcond': 5,\n",
       "  'overallqual': 7,\n",
       "  'paveddrive': 'Y',\n",
       "  'poolarea': 0,\n",
       "  'poolqc': None,\n",
       "  'roofmatl': 'CompShg',\n",
       "  'roofstyle': 'Gable',\n",
       "  'salecondition': 'Normal',\n",
       "  'saleprice': 208500,\n",
       "  'saletype': 'WD',\n",
       "  'screenporch': 0,\n",
       "  'street': 'Pave',\n",
       "  'totalbsmtsf': 856,\n",
       "  'totrmsabvgrd': 8,\n",
       "  'utilities': 'AllPub',\n",
       "  'wooddecksf': 0,\n",
       "  'yearbuilt': 2003,\n",
       "  'yearremodadd': 2003,\n",
       "  'yrsold': 2008},\n",
       " {'1stFlrSF': 1262,\n",
       "  '2ndFlrSF': 0,\n",
       "  '3SsnPorch': 0,\n",
       "  'alley': None,\n",
       "  'bedroomabvgr': 3,\n",
       "  'bldgtype': '1Fam',\n",
       "  'bsmtcond': 'TA',\n",
       "  'bsmtexposure': 'Gd',\n",
       "  'bsmtfinsf1': 978,\n",
       "  'bsmtfinsf2': 0,\n",
       "  'bsmtfintype1': 'ALQ',\n",
       "  'bsmtfintype2': 'Unf',\n",
       "  'bsmtfullbath': 0,\n",
       "  'bsmthalfbath': 1,\n",
       "  'bsmtqual': 'Gd',\n",
       "  'bsmtunfsf': 284,\n",
       "  'centralair': 'Y',\n",
       "  'condition1': 'Feedr',\n",
       "  'condition2': 'Norm',\n",
       "  'electrical': 'SBrkr',\n",
       "  'enclosedporch': 0,\n",
       "  'extercond': 'TA',\n",
       "  'exterior1st': 'MetalSd',\n",
       "  'exterior2nd': 'MetalSd',\n",
       "  'exterqual': 'TA',\n",
       "  'fence': None,\n",
       "  'fireplacequ': 'TA',\n",
       "  'fireplaces': 1,\n",
       "  'foundation': 'CBlock',\n",
       "  'fullbath': 2,\n",
       "  'functional': 'Typ',\n",
       "  'garagearea': 460,\n",
       "  'garagecars': 2,\n",
       "  'garagecond': 'TA',\n",
       "  'garagefinish': 'RFn',\n",
       "  'garagequal': 'TA',\n",
       "  'garagetype': 'Attchd',\n",
       "  'garageyrblt': 1976.0,\n",
       "  'grlivarea': 1262,\n",
       "  'halfbath': 0,\n",
       "  'heating': 'GasA',\n",
       "  'heatingqc': 'Ex',\n",
       "  'housestyle': '1Story',\n",
       "  'id': 2,\n",
       "  'kitchenabvgr': 1,\n",
       "  'kitchenqual': 'TA',\n",
       "  'landcontour': 'Lvl',\n",
       "  'landslope': 'Gtl',\n",
       "  'lotarea': 9600,\n",
       "  'lotconfig': 'FR2',\n",
       "  'lotfrontage': 80.0,\n",
       "  'lotshape': 'Reg',\n",
       "  'lowqualfinsf': 0,\n",
       "  'masvnrarea': 0.0,\n",
       "  'masvnrtype': 'None',\n",
       "  'miscfeature': None,\n",
       "  'miscval': 0,\n",
       "  'mosold': 5,\n",
       "  'mssubclass': 20,\n",
       "  'mszoning': 'RL',\n",
       "  'neighborhood': 'Veenker',\n",
       "  'openporchsf': 0,\n",
       "  'overallcond': 8,\n",
       "  'overallqual': 6,\n",
       "  'paveddrive': 'Y',\n",
       "  'poolarea': 0,\n",
       "  'poolqc': None,\n",
       "  'roofmatl': 'CompShg',\n",
       "  'roofstyle': 'Gable',\n",
       "  'salecondition': 'Normal',\n",
       "  'saleprice': 181500,\n",
       "  'saletype': 'WD',\n",
       "  'screenporch': 0,\n",
       "  'street': 'Pave',\n",
       "  'totalbsmtsf': 1262,\n",
       "  'totrmsabvgrd': 6,\n",
       "  'utilities': 'AllPub',\n",
       "  'wooddecksf': 298,\n",
       "  'yearbuilt': 1976,\n",
       "  'yearremodadd': 1976,\n",
       "  'yrsold': 2007}]"
      ]
     },
     "execution_count": 5,
     "metadata": {},
     "output_type": "execute_result"
    }
   ],
   "source": [
    "query_to_dictionary(\"\"\"SELECT * FROM train LIMIT 2;\"\"\")"
   ]
  },
  {
   "cell_type": "markdown",
   "metadata": {},
   "source": [
    "#### Load the data & analyse"
   ]
  },
  {
   "cell_type": "code",
   "execution_count": 6,
   "metadata": {
    "collapsed": true
   },
   "outputs": [],
   "source": [
    "df_ames = pd.DataFrame(query_to_dictionary(\"\"\"SELECT * FROM train;\"\"\"))"
   ]
  },
  {
   "cell_type": "code",
   "execution_count": 7,
   "metadata": {},
   "outputs": [
    {
     "data": {
      "text/plain": [
       "(1460, 81)"
      ]
     },
     "execution_count": 7,
     "metadata": {},
     "output_type": "execute_result"
    }
   ],
   "source": [
    "df_ames.shape"
   ]
  },
  {
   "cell_type": "code",
   "execution_count": 8,
   "metadata": {},
   "outputs": [
    {
     "data": {
      "text/html": [
       "<div>\n",
       "<style>\n",
       "    .dataframe thead tr:only-child th {\n",
       "        text-align: right;\n",
       "    }\n",
       "\n",
       "    .dataframe thead th {\n",
       "        text-align: left;\n",
       "    }\n",
       "\n",
       "    .dataframe tbody tr th {\n",
       "        vertical-align: top;\n",
       "    }\n",
       "</style>\n",
       "<table border=\"1\" class=\"dataframe\">\n",
       "  <thead>\n",
       "    <tr style=\"text-align: right;\">\n",
       "      <th></th>\n",
       "      <th>1stFlrSF</th>\n",
       "      <th>2ndFlrSF</th>\n",
       "      <th>3SsnPorch</th>\n",
       "      <th>alley</th>\n",
       "      <th>bedroomabvgr</th>\n",
       "      <th>bldgtype</th>\n",
       "      <th>bsmtcond</th>\n",
       "      <th>bsmtexposure</th>\n",
       "      <th>bsmtfinsf1</th>\n",
       "      <th>bsmtfinsf2</th>\n",
       "      <th>...</th>\n",
       "      <th>saletype</th>\n",
       "      <th>screenporch</th>\n",
       "      <th>street</th>\n",
       "      <th>totalbsmtsf</th>\n",
       "      <th>totrmsabvgrd</th>\n",
       "      <th>utilities</th>\n",
       "      <th>wooddecksf</th>\n",
       "      <th>yearbuilt</th>\n",
       "      <th>yearremodadd</th>\n",
       "      <th>yrsold</th>\n",
       "    </tr>\n",
       "  </thead>\n",
       "  <tbody>\n",
       "    <tr>\n",
       "      <th>0</th>\n",
       "      <td>856</td>\n",
       "      <td>854</td>\n",
       "      <td>0</td>\n",
       "      <td>None</td>\n",
       "      <td>3</td>\n",
       "      <td>1Fam</td>\n",
       "      <td>TA</td>\n",
       "      <td>No</td>\n",
       "      <td>706</td>\n",
       "      <td>0</td>\n",
       "      <td>...</td>\n",
       "      <td>WD</td>\n",
       "      <td>0</td>\n",
       "      <td>Pave</td>\n",
       "      <td>856</td>\n",
       "      <td>8</td>\n",
       "      <td>AllPub</td>\n",
       "      <td>0</td>\n",
       "      <td>2003</td>\n",
       "      <td>2003</td>\n",
       "      <td>2008</td>\n",
       "    </tr>\n",
       "    <tr>\n",
       "      <th>1</th>\n",
       "      <td>1262</td>\n",
       "      <td>0</td>\n",
       "      <td>0</td>\n",
       "      <td>None</td>\n",
       "      <td>3</td>\n",
       "      <td>1Fam</td>\n",
       "      <td>TA</td>\n",
       "      <td>Gd</td>\n",
       "      <td>978</td>\n",
       "      <td>0</td>\n",
       "      <td>...</td>\n",
       "      <td>WD</td>\n",
       "      <td>0</td>\n",
       "      <td>Pave</td>\n",
       "      <td>1262</td>\n",
       "      <td>6</td>\n",
       "      <td>AllPub</td>\n",
       "      <td>298</td>\n",
       "      <td>1976</td>\n",
       "      <td>1976</td>\n",
       "      <td>2007</td>\n",
       "    </tr>\n",
       "    <tr>\n",
       "      <th>2</th>\n",
       "      <td>920</td>\n",
       "      <td>866</td>\n",
       "      <td>0</td>\n",
       "      <td>None</td>\n",
       "      <td>3</td>\n",
       "      <td>1Fam</td>\n",
       "      <td>TA</td>\n",
       "      <td>Mn</td>\n",
       "      <td>486</td>\n",
       "      <td>0</td>\n",
       "      <td>...</td>\n",
       "      <td>WD</td>\n",
       "      <td>0</td>\n",
       "      <td>Pave</td>\n",
       "      <td>920</td>\n",
       "      <td>6</td>\n",
       "      <td>AllPub</td>\n",
       "      <td>0</td>\n",
       "      <td>2001</td>\n",
       "      <td>2002</td>\n",
       "      <td>2008</td>\n",
       "    </tr>\n",
       "    <tr>\n",
       "      <th>3</th>\n",
       "      <td>961</td>\n",
       "      <td>756</td>\n",
       "      <td>0</td>\n",
       "      <td>None</td>\n",
       "      <td>3</td>\n",
       "      <td>1Fam</td>\n",
       "      <td>Gd</td>\n",
       "      <td>No</td>\n",
       "      <td>216</td>\n",
       "      <td>0</td>\n",
       "      <td>...</td>\n",
       "      <td>WD</td>\n",
       "      <td>0</td>\n",
       "      <td>Pave</td>\n",
       "      <td>756</td>\n",
       "      <td>7</td>\n",
       "      <td>AllPub</td>\n",
       "      <td>0</td>\n",
       "      <td>1915</td>\n",
       "      <td>1970</td>\n",
       "      <td>2006</td>\n",
       "    </tr>\n",
       "    <tr>\n",
       "      <th>4</th>\n",
       "      <td>1145</td>\n",
       "      <td>1053</td>\n",
       "      <td>0</td>\n",
       "      <td>None</td>\n",
       "      <td>4</td>\n",
       "      <td>1Fam</td>\n",
       "      <td>TA</td>\n",
       "      <td>Av</td>\n",
       "      <td>655</td>\n",
       "      <td>0</td>\n",
       "      <td>...</td>\n",
       "      <td>WD</td>\n",
       "      <td>0</td>\n",
       "      <td>Pave</td>\n",
       "      <td>1145</td>\n",
       "      <td>9</td>\n",
       "      <td>AllPub</td>\n",
       "      <td>192</td>\n",
       "      <td>2000</td>\n",
       "      <td>2000</td>\n",
       "      <td>2008</td>\n",
       "    </tr>\n",
       "  </tbody>\n",
       "</table>\n",
       "<p>5 rows × 81 columns</p>\n",
       "</div>"
      ],
      "text/plain": [
       "   1stFlrSF  2ndFlrSF  3SsnPorch alley  bedroomabvgr bldgtype bsmtcond  \\\n",
       "0       856       854          0  None             3     1Fam       TA   \n",
       "1      1262         0          0  None             3     1Fam       TA   \n",
       "2       920       866          0  None             3     1Fam       TA   \n",
       "3       961       756          0  None             3     1Fam       Gd   \n",
       "4      1145      1053          0  None             4     1Fam       TA   \n",
       "\n",
       "  bsmtexposure  bsmtfinsf1  bsmtfinsf2  ...   saletype screenporch  street  \\\n",
       "0           No         706           0  ...         WD           0    Pave   \n",
       "1           Gd         978           0  ...         WD           0    Pave   \n",
       "2           Mn         486           0  ...         WD           0    Pave   \n",
       "3           No         216           0  ...         WD           0    Pave   \n",
       "4           Av         655           0  ...         WD           0    Pave   \n",
       "\n",
       "   totalbsmtsf totrmsabvgrd  utilities wooddecksf yearbuilt yearremodadd  \\\n",
       "0          856            8     AllPub          0      2003         2003   \n",
       "1         1262            6     AllPub        298      1976         1976   \n",
       "2          920            6     AllPub          0      2001         2002   \n",
       "3          756            7     AllPub          0      1915         1970   \n",
       "4         1145            9     AllPub        192      2000         2000   \n",
       "\n",
       "  yrsold  \n",
       "0   2008  \n",
       "1   2007  \n",
       "2   2008  \n",
       "3   2006  \n",
       "4   2008  \n",
       "\n",
       "[5 rows x 81 columns]"
      ]
     },
     "execution_count": 8,
     "metadata": {},
     "output_type": "execute_result"
    }
   ],
   "source": [
    "df_ames.head()"
   ]
  },
  {
   "cell_type": "code",
   "execution_count": 9,
   "metadata": {},
   "outputs": [
    {
     "name": "stdout",
     "output_type": "stream",
     "text": [
      "<class 'pandas.core.frame.DataFrame'>\n",
      "RangeIndex: 1460 entries, 0 to 1459\n",
      "Data columns (total 81 columns):\n",
      "1stFlrSF         1460 non-null int64\n",
      "2ndFlrSF         1460 non-null int64\n",
      "3SsnPorch        1460 non-null int64\n",
      "alley            91 non-null object\n",
      "bedroomabvgr     1460 non-null int64\n",
      "bldgtype         1460 non-null object\n",
      "bsmtcond         1423 non-null object\n",
      "bsmtexposure     1422 non-null object\n",
      "bsmtfinsf1       1460 non-null int64\n",
      "bsmtfinsf2       1460 non-null int64\n",
      "bsmtfintype1     1423 non-null object\n",
      "bsmtfintype2     1422 non-null object\n",
      "bsmtfullbath     1460 non-null int64\n",
      "bsmthalfbath     1460 non-null int64\n",
      "bsmtqual         1423 non-null object\n",
      "bsmtunfsf        1460 non-null int64\n",
      "centralair       1460 non-null object\n",
      "condition1       1460 non-null object\n",
      "condition2       1460 non-null object\n",
      "electrical       1459 non-null object\n",
      "enclosedporch    1460 non-null int64\n",
      "extercond        1460 non-null object\n",
      "exterior1st      1460 non-null object\n",
      "exterior2nd      1460 non-null object\n",
      "exterqual        1460 non-null object\n",
      "fence            281 non-null object\n",
      "fireplacequ      770 non-null object\n",
      "fireplaces       1460 non-null int64\n",
      "foundation       1460 non-null object\n",
      "fullbath         1460 non-null int64\n",
      "functional       1460 non-null object\n",
      "garagearea       1460 non-null int64\n",
      "garagecars       1460 non-null int64\n",
      "garagecond       1379 non-null object\n",
      "garagefinish     1379 non-null object\n",
      "garagequal       1379 non-null object\n",
      "garagetype       1379 non-null object\n",
      "garageyrblt      1379 non-null float64\n",
      "grlivarea        1460 non-null int64\n",
      "halfbath         1460 non-null int64\n",
      "heating          1460 non-null object\n",
      "heatingqc        1460 non-null object\n",
      "housestyle       1460 non-null object\n",
      "id               1460 non-null int64\n",
      "kitchenabvgr     1460 non-null int64\n",
      "kitchenqual      1460 non-null object\n",
      "landcontour      1460 non-null object\n",
      "landslope        1460 non-null object\n",
      "lotarea          1460 non-null int64\n",
      "lotconfig        1460 non-null object\n",
      "lotfrontage      1201 non-null float64\n",
      "lotshape         1460 non-null object\n",
      "lowqualfinsf     1460 non-null int64\n",
      "masvnrarea       1452 non-null float64\n",
      "masvnrtype       1452 non-null object\n",
      "miscfeature      54 non-null object\n",
      "miscval          1460 non-null int64\n",
      "mosold           1460 non-null int64\n",
      "mssubclass       1460 non-null int64\n",
      "mszoning         1460 non-null object\n",
      "neighborhood     1460 non-null object\n",
      "openporchsf      1460 non-null int64\n",
      "overallcond      1460 non-null int64\n",
      "overallqual      1460 non-null int64\n",
      "paveddrive       1460 non-null object\n",
      "poolarea         1460 non-null int64\n",
      "poolqc           7 non-null object\n",
      "roofmatl         1460 non-null object\n",
      "roofstyle        1460 non-null object\n",
      "salecondition    1460 non-null object\n",
      "saleprice        1460 non-null int64\n",
      "saletype         1460 non-null object\n",
      "screenporch      1460 non-null int64\n",
      "street           1460 non-null object\n",
      "totalbsmtsf      1460 non-null int64\n",
      "totrmsabvgrd     1460 non-null int64\n",
      "utilities        1460 non-null object\n",
      "wooddecksf       1460 non-null int64\n",
      "yearbuilt        1460 non-null int64\n",
      "yearremodadd     1460 non-null int64\n",
      "yrsold           1460 non-null int64\n",
      "dtypes: float64(3), int64(35), object(43)\n",
      "memory usage: 924.0+ KB\n"
     ]
    }
   ],
   "source": [
    "df_ames.info()"
   ]
  },
  {
   "cell_type": "code",
   "execution_count": 67,
   "metadata": {},
   "outputs": [
    {
     "data": {
      "text/plain": [
       "<matplotlib.axes._subplots.AxesSubplot at 0x1e478358>"
      ]
     },
     "execution_count": 67,
     "metadata": {},
     "output_type": "execute_result"
    },
    {
     "data": {
      "image/png": "[encoded data removed]",
      "text/plain": [
       "<matplotlib.figure.Figure at 0x1e463f98>"
      ]
     },
     "metadata": {},
     "output_type": "display_data"
    }
   ],
   "source": [
    "f, ax = plt.subplots(figsize=(25,12))\n",
    "sns.heatmap(df_ames.isnull(),yticklabels=False,cbar=False,cmap=\"viridis\")"
   ]
  },
  {
   "cell_type": "code",
   "execution_count": 11,
   "metadata": {},
   "outputs": [
    {
     "data": {
      "text/plain": [
       "<matplotlib.axes._subplots.AxesSubplot at 0x14d12320>"
      ]
     },
     "execution_count": 11,
     "metadata": {},
     "output_type": "execute_result"
    },
    {
     "data": {
      "image/png": "[encoded data removed]",
      "text/plain": [
       "<matplotlib.figure.Figure at 0x125ba438>"
      ]
     },
     "metadata": {},
     "output_type": "display_data"
    }
   ],
   "source": [
    "f, ax = plt.subplots(figsize=(15,10))\n",
    "sns.heatmap(df_ames.corr(),cmap = 'coolwarm')"
   ]
  },
  {
   "cell_type": "markdown",
   "metadata": {},
   "source": [
    "Seeing the above graph we can visualize lot of missing values for Alley, Fence,Fireplacequ,Miscfeature,Poolqc.\n",
    "Will perform some EDA before dropping or replacling missing value."
   ]
  },
  {
   "cell_type": "code",
   "execution_count": 12,
   "metadata": {},
   "outputs": [
    {
     "data": {
      "text/plain": [
       "<matplotlib.axes._subplots.AxesSubplot at 0x1519a908>"
      ]
     },
     "execution_count": 12,
     "metadata": {},
     "output_type": "execute_result"
    },
    {
     "data": {
      "image/png": "[encoded data removed]",
      "text/plain": [
       "<matplotlib.figure.Figure at 0x125ba400>"
      ]
     },
     "metadata": {},
     "output_type": "display_data"
    }
   ],
   "source": [
    "plt.figure(figsize=(14,8))\n",
    "sns.boxplot(x='alley',y='saleprice',data=df_ames,palette='rainbow')"
   ]
  },
  {
   "cell_type": "markdown",
   "metadata": {},
   "source": [
    "**Handle Missing Value for Alley**"
   ]
  },
  {
   "cell_type": "code",
   "execution_count": 13,
   "metadata": {
    "collapsed": true
   },
   "outputs": [],
   "source": [
    "def impute_alley(cols):\n",
    "    Alley = cols[0]\n",
    "    Saleprice = cols[1]\n",
    "    \n",
    "    if pd.isnull(Alley):\n",
    "        \n",
    "        if Saleprice > 150000:\n",
    "            return \"Pave\"\n",
    "        else:\n",
    "            return \"Grvl\"\n",
    "    else:\n",
    "        return Alley"
   ]
  },
  {
   "cell_type": "code",
   "execution_count": 14,
   "metadata": {
    "collapsed": true
   },
   "outputs": [],
   "source": [
    "df_ames['alley'] = df_ames[['alley','saleprice']].apply(impute_alley,axis =1)"
   ]
  },
  {
   "cell_type": "code",
   "execution_count": 15,
   "metadata": {},
   "outputs": [
    {
     "data": {
      "text/plain": [
       "<matplotlib.axes._subplots.AxesSubplot at 0x125ba1d0>"
      ]
     },
     "execution_count": 15,
     "metadata": {},
     "output_type": "execute_result"
    },
    {
     "data": {
      "image/png": "[encoded data removed]",
      "text/plain": [
       "<matplotlib.figure.Figure at 0x12ac2e48>"
      ]
     },
     "metadata": {},
     "output_type": "display_data"
    }
   ],
   "source": [
    "plt.figure(figsize=(14,8))\n",
    "sns.boxplot(x='bsmtcond',y='overallqual',data=df_ames,palette='rainbow')"
   ]
  },
  {
   "cell_type": "markdown",
   "metadata": {},
   "source": [
    "**Handle Missing Value for BsmtCond**"
   ]
  },
  {
   "cell_type": "code",
   "execution_count": 16,
   "metadata": {},
   "outputs": [],
   "source": [
    "def impute_bsmtcond(cols):\n",
    "    Bsmtcond = cols[0]\n",
    "    Overallqual = cols[1]\n",
    "    \n",
    "    if pd.isnull(Bsmtcond):\n",
    "        \n",
    "        if Overallqual < 4:\n",
    "            return \"Po\"\n",
    "        elif Overallqual > 6:\n",
    "            return \"Gd\"\n",
    "        elif Overallqual == 6:\n",
    "            return \"TA\"\n",
    "        else:\n",
    "            return \"Fa\"\n",
    "    else:\n",
    "        return Bsmtcond"
   ]
  },
  {
   "cell_type": "code",
   "execution_count": 17,
   "metadata": {
    "collapsed": true
   },
   "outputs": [],
   "source": [
    "df_ames['bsmtcond'] = df_ames[['bsmtcond','overallqual']].apply(impute_bsmtcond,axis =1)"
   ]
  },
  {
   "cell_type": "code",
   "execution_count": 18,
   "metadata": {},
   "outputs": [
    {
     "data": {
      "text/plain": [
       "<matplotlib.axes._subplots.AxesSubplot at 0x123419e8>"
      ]
     },
     "execution_count": 18,
     "metadata": {},
     "output_type": "execute_result"
    },
    {
     "data": {
      "image/png": "[encoded data removed]",
      "text/plain": [
       "<matplotlib.figure.Figure at 0x15daeda0>"
      ]
     },
     "metadata": {},
     "output_type": "display_data"
    }
   ],
   "source": [
    "plt.figure(figsize=(14,8))\n",
    "sns.boxplot(x='bsmtqual',y='overallqual',data=df_ames,palette='rainbow')"
   ]
  },
  {
   "cell_type": "markdown",
   "metadata": {},
   "source": [
    "**Handle Missing Value for BsmtQual**"
   ]
  },
  {
   "cell_type": "code",
   "execution_count": 19,
   "metadata": {
    "collapsed": true
   },
   "outputs": [],
   "source": [
    "def impute_bsmtqual(cols):\n",
    "    Bsmtqual = cols[0]\n",
    "    Overallqual = cols[1]\n",
    "    \n",
    "    if pd.isnull(Bsmtqual):\n",
    "        \n",
    "        if Overallqual < 6:\n",
    "            return \"Fa\"\n",
    "        elif Overallqual == 6:\n",
    "            return \"TA\"\n",
    "        elif Overallqual == 7:\n",
    "            return \"Gd\"\n",
    "        else:\n",
    "            return \"Ex\"\n",
    "    else:\n",
    "        return Bsmtqual"
   ]
  },
  {
   "cell_type": "code",
   "execution_count": 20,
   "metadata": {
    "collapsed": true
   },
   "outputs": [],
   "source": [
    "df_ames['bsmtqual'] = df_ames[['bsmtqual','overallqual']].apply(impute_bsmtqual,axis =1)"
   ]
  },
  {
   "cell_type": "markdown",
   "metadata": {},
   "source": [
    "Handle Numerical missing value ['garageyrblt', 'lotfrontage', 'masvnrarea']"
   ]
  },
  {
   "cell_type": "code",
   "execution_count": 26,
   "metadata": {},
   "outputs": [
    {
     "data": {
      "text/plain": [
       "<seaborn.axisgrid.JointGrid at 0x1699c898>"
      ]
     },
     "execution_count": 26,
     "metadata": {},
     "output_type": "execute_result"
    },
    {
     "data": {
      "text/plain": [
       "<matplotlib.figure.Figure at 0x16977c88>"
      ]
     },
     "metadata": {},
     "output_type": "display_data"
    },
    {
     "data": {
      "image/png": "[encoded data removed]",
      "text/plain": [
       "<matplotlib.figure.Figure at 0x16977908>"
      ]
     },
     "metadata": {},
     "output_type": "display_data"
    }
   ],
   "source": [
    "plt.figure(figsize=(14,8))\n",
    "sns.jointplot(x='garageyrblt',y='yearbuilt',data=df_ames)"
   ]
  },
  {
   "cell_type": "code",
   "execution_count": 24,
   "metadata": {},
   "outputs": [],
   "source": [
    "def impute_garageyrblt(cols):\n",
    "    Garageyrblt = cols[0]\n",
    "    Yearbuilt = cols[1]\n",
    "    \n",
    "    if pd.isnull(Garageyrblt):\n",
    "        return Yearbuilt       \n",
    "\n",
    "    else:\n",
    "        return Garageyrblt"
   ]
  },
  {
   "cell_type": "code",
   "execution_count": 25,
   "metadata": {
    "collapsed": true
   },
   "outputs": [],
   "source": [
    "df_ames['garageyrblt'] = df_ames[['garageyrblt','yearbuilt']].apply(impute_garageyrblt,axis =1)"
   ]
  },
  {
   "cell_type": "markdown",
   "metadata": {},
   "source": [
    "Will Handle lotfrontage & masvnrarea missing value with mean"
   ]
  },
  {
   "cell_type": "code",
   "execution_count": 41,
   "metadata": {},
   "outputs": [
    {
     "data": {
      "text/plain": [
       "<matplotlib.axes._subplots.AxesSubplot at 0x127a0278>"
      ]
     },
     "execution_count": 41,
     "metadata": {},
     "output_type": "execute_result"
    },
    {
     "data": {
      "image/png": "[encoded data removed]",
      "text/plain": [
       "<matplotlib.figure.Figure at 0x190e4c50>"
      ]
     },
     "metadata": {},
     "output_type": "display_data"
    }
   ],
   "source": [
    "plt.figure(figsize=(14,8))\n",
    "sns.boxplot(x='fireplacequ',y='overallqual',data=df_ames,palette='rainbow')"
   ]
  },
  {
   "cell_type": "code",
   "execution_count": 38,
   "metadata": {
    "collapsed": true
   },
   "outputs": [],
   "source": [
    "def impute_fireplacequ(cols):\n",
    "    Fireplacequ = cols[0]\n",
    "    Overallqual = cols[1]\n",
    "    \n",
    "    if pd.isnull(Fireplacequ):\n",
    "        \n",
    "        if Overallqual > 8:\n",
    "            return \"Ex\"\n",
    "        elif Overallqual == 8:\n",
    "            return \"Gd\"\n",
    "        elif Overallqual == 7:\n",
    "            return \"TA\"\n",
    "        elif Overallqual == 6:\n",
    "            return \"Fa\"\n",
    "        else:\n",
    "            return \"Po\"\n",
    "    else:\n",
    "        return Fireplacequ"
   ]
  },
  {
   "cell_type": "code",
   "execution_count": 39,
   "metadata": {
    "collapsed": true
   },
   "outputs": [],
   "source": [
    "df_ames['fireplacequ'] = df_ames[['fireplacequ','overallqual']].apply(impute_fireplacequ,axis =1)"
   ]
  },
  {
   "cell_type": "markdown",
   "metadata": {},
   "source": [
    "'miscfeature' & 'poolqc' have lot of missing value, so it can be deleted."
   ]
  },
  {
   "cell_type": "code",
   "execution_count": 55,
   "metadata": {},
   "outputs": [
    {
     "data": {
      "text/plain": [
       "<matplotlib.axes._subplots.AxesSubplot at 0x19e09780>"
      ]
     },
     "execution_count": 55,
     "metadata": {},
     "output_type": "execute_result"
    },
    {
     "data": {
      "image/png": "[encoded data removed]",
      "text/plain": [
       "<matplotlib.figure.Figure at 0x1a0d3ba8>"
      ]
     },
     "metadata": {},
     "output_type": "display_data"
    }
   ],
   "source": [
    "plt.figure(figsize=(14,8))\n",
    "sns.boxplot(x='masvnrtype',y='yearbuilt',data=df_ames,palette='rainbow')"
   ]
  },
  {
   "cell_type": "code",
   "execution_count": 53,
   "metadata": {
    "collapsed": true
   },
   "outputs": [],
   "source": [
    "def impute_masvnrtype(cols):\n",
    "    Masvnrtype = cols[0]\n",
    "    Yearbuilt = cols[1]\n",
    "    \n",
    "    if pd.isnull(Masvnrtype):\n",
    "        \n",
    "        if Yearbuilt > 2000:\n",
    "            return 'Stone'\n",
    "        elif Yearbuilt < 1965:\n",
    "            return 'BrkCmn'\n",
    "        elif Yearbuilt <=2000 and Yearbuilt >= 1965:\n",
    "            return 'BrkFace'\n",
    "\n",
    "    else:\n",
    "        return Masvnrtype"
   ]
  },
  {
   "cell_type": "code",
   "execution_count": 54,
   "metadata": {
    "collapsed": true
   },
   "outputs": [],
   "source": [
    "df_ames['masvnrtype'] = df_ames[['masvnrtype','yearbuilt']].apply(impute_masvnrtype,axis =1)"
   ]
  },
  {
   "cell_type": "code",
   "execution_count": 66,
   "metadata": {},
   "outputs": [
    {
     "data": {
      "text/plain": [
       "<matplotlib.axes._subplots.AxesSubplot at 0x1be6cdd8>"
      ]
     },
     "execution_count": 66,
     "metadata": {},
     "output_type": "execute_result"
    },
    {
     "data": {
      "image/png": "[encoded data removed]",
      "text/plain": [
       "<matplotlib.figure.Figure at 0x1cd0b5c0>"
      ]
     },
     "metadata": {},
     "output_type": "display_data"
    }
   ],
   "source": [
    "plt.figure(figsize=(14,8))\n",
    "sns.boxplot(x='overallqual',y='masvnrarea',data=df_ames,palette='rainbow')"
   ]
  },
  {
   "cell_type": "code",
   "execution_count": 64,
   "metadata": {
    "collapsed": true
   },
   "outputs": [],
   "source": [
    "def impute_masvnrarea(cols):\n",
    "    Masvnrarea = cols[0]\n",
    "    Overallqual = cols[1]\n",
    "    \n",
    "    if pd.isnull(Masvnrarea):\n",
    "        \n",
    "        if Overallqual == 10:\n",
    "            return 400\n",
    "        elif Overallqual == 9:\n",
    "            return 300\n",
    "        elif Overallqual == 8:\n",
    "            return 200\n",
    "        elif Overallqual == 7:\n",
    "            return 100\n",
    "        elif Overallqual == 6:\n",
    "            return 50\n",
    "        else:\n",
    "            return 0\n",
    "    else:\n",
    "        return Masvnrarea"
   ]
  },
  {
   "cell_type": "code",
   "execution_count": 65,
   "metadata": {
    "collapsed": true
   },
   "outputs": [],
   "source": [
    "df_ames['masvnrarea'] = df_ames[['masvnrarea','overallqual']].apply(impute_masvnrarea,axis =1)"
   ]
  },
  {
   "cell_type": "code",
   "execution_count": null,
   "metadata": {
    "collapsed": true
   },
   "outputs": [],
   "source": []
  },
  {
   "cell_type": "code",
   "execution_count": null,
   "metadata": {
    "collapsed": true
   },
   "outputs": [],
   "source": []
  },
  {
   "cell_type": "code",
   "execution_count": null,
   "metadata": {
    "collapsed": true
   },
   "outputs": [],
   "source": []
  },
  {
   "cell_type": "code",
   "execution_count": null,
   "metadata": {
    "collapsed": true
   },
   "outputs": [],
   "source": []
  },
  {
   "cell_type": "code",
   "execution_count": null,
   "metadata": {
    "collapsed": true
   },
   "outputs": [],
   "source": []
  },
  {
   "cell_type": "code",
   "execution_count": null,
   "metadata": {
    "collapsed": true
   },
   "outputs": [],
   "source": []
  },
  {
   "cell_type": "code",
   "execution_count": null,
   "metadata": {
    "collapsed": true
   },
   "outputs": [],
   "source": []
  },
  {
   "cell_type": "code",
   "execution_count": null,
   "metadata": {
    "collapsed": true
   },
   "outputs": [],
   "source": []
  },
  {
   "cell_type": "code",
   "execution_count": null,
   "metadata": {
    "collapsed": true
   },
   "outputs": [],
   "source": []
  },
  {
   "cell_type": "code",
   "execution_count": null,
   "metadata": {
    "collapsed": true
   },
   "outputs": [],
   "source": []
  },
  {
   "cell_type": "code",
   "execution_count": 10,
   "metadata": {
    "collapsed": true
   },
   "outputs": [],
   "source": [
    "df_test = pd.DataFrame(query_to_dictionary(\"\"\"SELECT * FROM test;\"\"\"))"
   ]
  },
  {
   "cell_type": "code",
   "execution_count": 11,
   "metadata": {},
   "outputs": [
    {
     "data": {
      "text/plain": [
       "(1459, 80)"
      ]
     },
     "execution_count": 11,
     "metadata": {},
     "output_type": "execute_result"
    }
   ],
   "source": [
    "df_test.shape"
   ]
  },
  {
   "cell_type": "code",
   "execution_count": 12,
   "metadata": {},
   "outputs": [
    {
     "name": "stdout",
     "output_type": "stream",
     "text": [
      "<class 'pandas.core.frame.DataFrame'>\n",
      "RangeIndex: 1459 entries, 0 to 1458\n",
      "Data columns (total 80 columns):\n",
      "1stFlrSF         1459 non-null int64\n",
      "2ndFlrSF         1459 non-null int64\n",
      "3SsnPorch        1459 non-null int64\n",
      "Id               1459 non-null int64\n",
      "alley            107 non-null object\n",
      "bedroomabvgr     1459 non-null int64\n",
      "bldgtype         1459 non-null object\n",
      "bsmtcond         1414 non-null object\n",
      "bsmtexposure     1415 non-null object\n",
      "bsmtfinsf1       1458 non-null float64\n",
      "bsmtfinsf2       1458 non-null float64\n",
      "bsmtfintype1     1417 non-null object\n",
      "bsmtfintype2     1417 non-null object\n",
      "bsmtfullbath     1457 non-null float64\n",
      "bsmthalfbath     1457 non-null float64\n",
      "bsmtqual         1415 non-null object\n",
      "bsmtunfsf        1458 non-null float64\n",
      "centralair       1459 non-null object\n",
      "condition1       1459 non-null object\n",
      "condition2       1459 non-null object\n",
      "electrical       1459 non-null object\n",
      "enclosedporch    1459 non-null int64\n",
      "extercond        1459 non-null object\n",
      "exterior1st      1458 non-null object\n",
      "exterior2nd      1458 non-null object\n",
      "exterqual        1459 non-null object\n",
      "fence            290 non-null object\n",
      "fireplacequ      729 non-null object\n",
      "fireplaces       1459 non-null int64\n",
      "foundation       1459 non-null object\n",
      "fullbath         1459 non-null int64\n",
      "functional       1457 non-null object\n",
      "garagearea       1458 non-null float64\n",
      "garagecars       1458 non-null float64\n",
      "garagecond       1381 non-null object\n",
      "garagefinish     1381 non-null object\n",
      "garagequal       1381 non-null object\n",
      "garagetype       1383 non-null object\n",
      "garageyrblt      1381 non-null float64\n",
      "grlivarea        1459 non-null int64\n",
      "halfbath         1459 non-null int64\n",
      "heating          1459 non-null object\n",
      "heatingqc        1459 non-null object\n",
      "housestyle       1459 non-null object\n",
      "kitchenabvgr     1459 non-null int64\n",
      "kitchenqual      1458 non-null object\n",
      "landcontour      1459 non-null object\n",
      "landslope        1459 non-null object\n",
      "lotarea          1459 non-null int64\n",
      "lotconfig        1459 non-null object\n",
      "lotfrontage      1232 non-null float64\n",
      "lotshape         1459 non-null object\n",
      "lowqualfinsf     1459 non-null int64\n",
      "masvnrarea       1444 non-null float64\n",
      "masvnrtype       1443 non-null object\n",
      "miscfeature      51 non-null object\n",
      "miscval          1459 non-null int64\n",
      "mosold           1459 non-null int64\n",
      "mssubclass       1459 non-null int64\n",
      "mszoning         1455 non-null object\n",
      "neighborhood     1459 non-null object\n",
      "openporchsf      1459 non-null int64\n",
      "overallcond      1459 non-null int64\n",
      "overallqual      1459 non-null int64\n",
      "paveddrive       1459 non-null object\n",
      "poolarea         1459 non-null int64\n",
      "poolqc           3 non-null object\n",
      "roofmatl         1459 non-null object\n",
      "roofstyle        1459 non-null object\n",
      "salecondition    1459 non-null object\n",
      "saletype         1458 non-null object\n",
      "screenporch      1459 non-null int64\n",
      "street           1459 non-null object\n",
      "totalbsmtsf      1458 non-null float64\n",
      "totrmsabvgrd     1459 non-null int64\n",
      "utilities        1457 non-null object\n",
      "wooddecksf       1459 non-null int64\n",
      "yearbuilt        1459 non-null int64\n",
      "yearremodadd     1459 non-null int64\n",
      "yrsold           1459 non-null int64\n",
      "dtypes: float64(11), int64(26), object(43)\n",
      "memory usage: 912.0+ KB\n"
     ]
    }
   ],
   "source": [
    "df_test.info()"
   ]
  },
  {
   "cell_type": "code",
   "execution_count": 36,
   "metadata": {},
   "outputs": [
    {
     "data": {
      "text/plain": [
       "<matplotlib.axes._subplots.AxesSubplot at 0x12f2d240>"
      ]
     },
     "execution_count": 36,
     "metadata": {},
     "output_type": "execute_result"
    },
    {
     "data": {
      "image/png": "[encoded data removed]",
      "text/plain": [
       "<matplotlib.figure.Figure at 0x13026ef0>"
      ]
     },
     "metadata": {},
     "output_type": "display_data"
    }
   ],
   "source": [
    "f, ax = plt.subplots(figsize=(25,12))\n",
    "sns.heatmap(df_test.isnull(),yticklabels=False,cbar=False,cmap=\"viridis\")"
   ]
  },
  {
   "cell_type": "code",
   "execution_count": 13,
   "metadata": {},
   "outputs": [
    {
     "data": {
      "text/plain": [
       "object     43\n",
       "int64      35\n",
       "float64     3\n",
       "dtype: int64"
      ]
     },
     "execution_count": 13,
     "metadata": {},
     "output_type": "execute_result"
    }
   ],
   "source": [
    "df_ames.dtypes.value_counts()"
   ]
  },
  {
   "cell_type": "code",
   "execution_count": 14,
   "metadata": {},
   "outputs": [
    {
     "data": {
      "text/plain": [
       "object     43\n",
       "int64      26\n",
       "float64    11\n",
       "dtype: int64"
      ]
     },
     "execution_count": 14,
     "metadata": {},
     "output_type": "execute_result"
    }
   ],
   "source": [
    "df_test.dtypes.value_counts()"
   ]
  },
  {
   "cell_type": "code",
   "execution_count": 15,
   "metadata": {
    "collapsed": true
   },
   "outputs": [],
   "source": [
    "cat_df = df_ames.select_dtypes(include=['object'])"
   ]
  },
  {
   "cell_type": "code",
   "execution_count": 16,
   "metadata": {
    "collapsed": true
   },
   "outputs": [],
   "source": [
    "num_df = df_ames.select_dtypes(exclude=['object'])"
   ]
  },
  {
   "cell_type": "code",
   "execution_count": 17,
   "metadata": {},
   "outputs": [
    {
     "data": {
      "text/plain": [
       "(1460, 43)"
      ]
     },
     "execution_count": 17,
     "metadata": {},
     "output_type": "execute_result"
    }
   ],
   "source": [
    "cat_df.shape"
   ]
  },
  {
   "cell_type": "code",
   "execution_count": 18,
   "metadata": {},
   "outputs": [
    {
     "data": {
      "text/plain": [
       "(1460, 38)"
      ]
     },
     "execution_count": 18,
     "metadata": {},
     "output_type": "execute_result"
    }
   ],
   "source": [
    "num_df.shape"
   ]
  },
  {
   "cell_type": "code",
   "execution_count": 19,
   "metadata": {},
   "outputs": [
    {
     "data": {
      "text/html": [
       "<div>\n",
       "<style>\n",
       "    .dataframe thead tr:only-child th {\n",
       "        text-align: right;\n",
       "    }\n",
       "\n",
       "    .dataframe thead th {\n",
       "        text-align: left;\n",
       "    }\n",
       "\n",
       "    .dataframe tbody tr th {\n",
       "        vertical-align: top;\n",
       "    }\n",
       "</style>\n",
       "<table border=\"1\" class=\"dataframe\">\n",
       "  <thead>\n",
       "    <tr style=\"text-align: right;\">\n",
       "      <th></th>\n",
       "      <th>1stFlrSF</th>\n",
       "      <th>2ndFlrSF</th>\n",
       "      <th>3SsnPorch</th>\n",
       "      <th>bedroomabvgr</th>\n",
       "      <th>bsmtfinsf1</th>\n",
       "      <th>bsmtfinsf2</th>\n",
       "      <th>bsmtfullbath</th>\n",
       "      <th>bsmthalfbath</th>\n",
       "      <th>bsmtunfsf</th>\n",
       "      <th>enclosedporch</th>\n",
       "      <th>...</th>\n",
       "      <th>overallqual</th>\n",
       "      <th>poolarea</th>\n",
       "      <th>saleprice</th>\n",
       "      <th>screenporch</th>\n",
       "      <th>totalbsmtsf</th>\n",
       "      <th>totrmsabvgrd</th>\n",
       "      <th>wooddecksf</th>\n",
       "      <th>yearbuilt</th>\n",
       "      <th>yearremodadd</th>\n",
       "      <th>yrsold</th>\n",
       "    </tr>\n",
       "  </thead>\n",
       "  <tbody>\n",
       "    <tr>\n",
       "      <th>0</th>\n",
       "      <td>856</td>\n",
       "      <td>854</td>\n",
       "      <td>0</td>\n",
       "      <td>3</td>\n",
       "      <td>706</td>\n",
       "      <td>0</td>\n",
       "      <td>1</td>\n",
       "      <td>0</td>\n",
       "      <td>150</td>\n",
       "      <td>0</td>\n",
       "      <td>...</td>\n",
       "      <td>7</td>\n",
       "      <td>0</td>\n",
       "      <td>208500</td>\n",
       "      <td>0</td>\n",
       "      <td>856</td>\n",
       "      <td>8</td>\n",
       "      <td>0</td>\n",
       "      <td>2003</td>\n",
       "      <td>2003</td>\n",
       "      <td>2008</td>\n",
       "    </tr>\n",
       "    <tr>\n",
       "      <th>1</th>\n",
       "      <td>1262</td>\n",
       "      <td>0</td>\n",
       "      <td>0</td>\n",
       "      <td>3</td>\n",
       "      <td>978</td>\n",
       "      <td>0</td>\n",
       "      <td>0</td>\n",
       "      <td>1</td>\n",
       "      <td>284</td>\n",
       "      <td>0</td>\n",
       "      <td>...</td>\n",
       "      <td>6</td>\n",
       "      <td>0</td>\n",
       "      <td>181500</td>\n",
       "      <td>0</td>\n",
       "      <td>1262</td>\n",
       "      <td>6</td>\n",
       "      <td>298</td>\n",
       "      <td>1976</td>\n",
       "      <td>1976</td>\n",
       "      <td>2007</td>\n",
       "    </tr>\n",
       "    <tr>\n",
       "      <th>2</th>\n",
       "      <td>920</td>\n",
       "      <td>866</td>\n",
       "      <td>0</td>\n",
       "      <td>3</td>\n",
       "      <td>486</td>\n",
       "      <td>0</td>\n",
       "      <td>1</td>\n",
       "      <td>0</td>\n",
       "      <td>434</td>\n",
       "      <td>0</td>\n",
       "      <td>...</td>\n",
       "      <td>7</td>\n",
       "      <td>0</td>\n",
       "      <td>223500</td>\n",
       "      <td>0</td>\n",
       "      <td>920</td>\n",
       "      <td>6</td>\n",
       "      <td>0</td>\n",
       "      <td>2001</td>\n",
       "      <td>2002</td>\n",
       "      <td>2008</td>\n",
       "    </tr>\n",
       "    <tr>\n",
       "      <th>3</th>\n",
       "      <td>961</td>\n",
       "      <td>756</td>\n",
       "      <td>0</td>\n",
       "      <td>3</td>\n",
       "      <td>216</td>\n",
       "      <td>0</td>\n",
       "      <td>1</td>\n",
       "      <td>0</td>\n",
       "      <td>540</td>\n",
       "      <td>272</td>\n",
       "      <td>...</td>\n",
       "      <td>7</td>\n",
       "      <td>0</td>\n",
       "      <td>140000</td>\n",
       "      <td>0</td>\n",
       "      <td>756</td>\n",
       "      <td>7</td>\n",
       "      <td>0</td>\n",
       "      <td>1915</td>\n",
       "      <td>1970</td>\n",
       "      <td>2006</td>\n",
       "    </tr>\n",
       "    <tr>\n",
       "      <th>4</th>\n",
       "      <td>1145</td>\n",
       "      <td>1053</td>\n",
       "      <td>0</td>\n",
       "      <td>4</td>\n",
       "      <td>655</td>\n",
       "      <td>0</td>\n",
       "      <td>1</td>\n",
       "      <td>0</td>\n",
       "      <td>490</td>\n",
       "      <td>0</td>\n",
       "      <td>...</td>\n",
       "      <td>8</td>\n",
       "      <td>0</td>\n",
       "      <td>250000</td>\n",
       "      <td>0</td>\n",
       "      <td>1145</td>\n",
       "      <td>9</td>\n",
       "      <td>192</td>\n",
       "      <td>2000</td>\n",
       "      <td>2000</td>\n",
       "      <td>2008</td>\n",
       "    </tr>\n",
       "    <tr>\n",
       "      <th>5</th>\n",
       "      <td>796</td>\n",
       "      <td>566</td>\n",
       "      <td>320</td>\n",
       "      <td>1</td>\n",
       "      <td>732</td>\n",
       "      <td>0</td>\n",
       "      <td>1</td>\n",
       "      <td>0</td>\n",
       "      <td>64</td>\n",
       "      <td>0</td>\n",
       "      <td>...</td>\n",
       "      <td>5</td>\n",
       "      <td>0</td>\n",
       "      <td>143000</td>\n",
       "      <td>0</td>\n",
       "      <td>796</td>\n",
       "      <td>5</td>\n",
       "      <td>40</td>\n",
       "      <td>1993</td>\n",
       "      <td>1995</td>\n",
       "      <td>2009</td>\n",
       "    </tr>\n",
       "    <tr>\n",
       "      <th>6</th>\n",
       "      <td>1694</td>\n",
       "      <td>0</td>\n",
       "      <td>0</td>\n",
       "      <td>3</td>\n",
       "      <td>1369</td>\n",
       "      <td>0</td>\n",
       "      <td>1</td>\n",
       "      <td>0</td>\n",
       "      <td>317</td>\n",
       "      <td>0</td>\n",
       "      <td>...</td>\n",
       "      <td>8</td>\n",
       "      <td>0</td>\n",
       "      <td>307000</td>\n",
       "      <td>0</td>\n",
       "      <td>1686</td>\n",
       "      <td>7</td>\n",
       "      <td>255</td>\n",
       "      <td>2004</td>\n",
       "      <td>2005</td>\n",
       "      <td>2007</td>\n",
       "    </tr>\n",
       "    <tr>\n",
       "      <th>7</th>\n",
       "      <td>1107</td>\n",
       "      <td>983</td>\n",
       "      <td>0</td>\n",
       "      <td>3</td>\n",
       "      <td>859</td>\n",
       "      <td>32</td>\n",
       "      <td>1</td>\n",
       "      <td>0</td>\n",
       "      <td>216</td>\n",
       "      <td>228</td>\n",
       "      <td>...</td>\n",
       "      <td>7</td>\n",
       "      <td>0</td>\n",
       "      <td>200000</td>\n",
       "      <td>0</td>\n",
       "      <td>1107</td>\n",
       "      <td>7</td>\n",
       "      <td>235</td>\n",
       "      <td>1973</td>\n",
       "      <td>1973</td>\n",
       "      <td>2009</td>\n",
       "    </tr>\n",
       "    <tr>\n",
       "      <th>8</th>\n",
       "      <td>1022</td>\n",
       "      <td>752</td>\n",
       "      <td>0</td>\n",
       "      <td>2</td>\n",
       "      <td>0</td>\n",
       "      <td>0</td>\n",
       "      <td>0</td>\n",
       "      <td>0</td>\n",
       "      <td>952</td>\n",
       "      <td>205</td>\n",
       "      <td>...</td>\n",
       "      <td>7</td>\n",
       "      <td>0</td>\n",
       "      <td>129900</td>\n",
       "      <td>0</td>\n",
       "      <td>952</td>\n",
       "      <td>8</td>\n",
       "      <td>90</td>\n",
       "      <td>1931</td>\n",
       "      <td>1950</td>\n",
       "      <td>2008</td>\n",
       "    </tr>\n",
       "    <tr>\n",
       "      <th>9</th>\n",
       "      <td>1077</td>\n",
       "      <td>0</td>\n",
       "      <td>0</td>\n",
       "      <td>2</td>\n",
       "      <td>851</td>\n",
       "      <td>0</td>\n",
       "      <td>1</td>\n",
       "      <td>0</td>\n",
       "      <td>140</td>\n",
       "      <td>0</td>\n",
       "      <td>...</td>\n",
       "      <td>5</td>\n",
       "      <td>0</td>\n",
       "      <td>118000</td>\n",
       "      <td>0</td>\n",
       "      <td>991</td>\n",
       "      <td>5</td>\n",
       "      <td>0</td>\n",
       "      <td>1939</td>\n",
       "      <td>1950</td>\n",
       "      <td>2008</td>\n",
       "    </tr>\n",
       "  </tbody>\n",
       "</table>\n",
       "<p>10 rows × 38 columns</p>\n",
       "</div>"
      ],
      "text/plain": [
       "   1stFlrSF  2ndFlrSF  3SsnPorch  bedroomabvgr  bsmtfinsf1  bsmtfinsf2  \\\n",
       "0       856       854          0             3         706           0   \n",
       "1      1262         0          0             3         978           0   \n",
       "2       920       866          0             3         486           0   \n",
       "3       961       756          0             3         216           0   \n",
       "4      1145      1053          0             4         655           0   \n",
       "5       796       566        320             1         732           0   \n",
       "6      1694         0          0             3        1369           0   \n",
       "7      1107       983          0             3         859          32   \n",
       "8      1022       752          0             2           0           0   \n",
       "9      1077         0          0             2         851           0   \n",
       "\n",
       "   bsmtfullbath  bsmthalfbath  bsmtunfsf  enclosedporch   ...    overallqual  \\\n",
       "0             1             0        150              0   ...              7   \n",
       "1             0             1        284              0   ...              6   \n",
       "2             1             0        434              0   ...              7   \n",
       "3             1             0        540            272   ...              7   \n",
       "4             1             0        490              0   ...              8   \n",
       "5             1             0         64              0   ...              5   \n",
       "6             1             0        317              0   ...              8   \n",
       "7             1             0        216            228   ...              7   \n",
       "8             0             0        952            205   ...              7   \n",
       "9             1             0        140              0   ...              5   \n",
       "\n",
       "   poolarea  saleprice  screenporch  totalbsmtsf  totrmsabvgrd  wooddecksf  \\\n",
       "0         0     208500            0          856             8           0   \n",
       "1         0     181500            0         1262             6         298   \n",
       "2         0     223500            0          920             6           0   \n",
       "3         0     140000            0          756             7           0   \n",
       "4         0     250000            0         1145             9         192   \n",
       "5         0     143000            0          796             5          40   \n",
       "6         0     307000            0         1686             7         255   \n",
       "7         0     200000            0         1107             7         235   \n",
       "8         0     129900            0          952             8          90   \n",
       "9         0     118000            0          991             5           0   \n",
       "\n",
       "   yearbuilt  yearremodadd  yrsold  \n",
       "0       2003          2003    2008  \n",
       "1       1976          1976    2007  \n",
       "2       2001          2002    2008  \n",
       "3       1915          1970    2006  \n",
       "4       2000          2000    2008  \n",
       "5       1993          1995    2009  \n",
       "6       2004          2005    2007  \n",
       "7       1973          1973    2009  \n",
       "8       1931          1950    2008  \n",
       "9       1939          1950    2008  \n",
       "\n",
       "[10 rows x 38 columns]"
      ]
     },
     "execution_count": 19,
     "metadata": {},
     "output_type": "execute_result"
    }
   ],
   "source": [
    "num_df.head(10)"
   ]
  },
  {
   "cell_type": "code",
   "execution_count": 20,
   "metadata": {},
   "outputs": [
    {
     "data": {
      "text/html": [
       "<div>\n",
       "<style>\n",
       "    .dataframe thead tr:only-child th {\n",
       "        text-align: right;\n",
       "    }\n",
       "\n",
       "    .dataframe thead th {\n",
       "        text-align: left;\n",
       "    }\n",
       "\n",
       "    .dataframe tbody tr th {\n",
       "        vertical-align: top;\n",
       "    }\n",
       "</style>\n",
       "<table border=\"1\" class=\"dataframe\">\n",
       "  <thead>\n",
       "    <tr style=\"text-align: right;\">\n",
       "      <th></th>\n",
       "      <th>alley</th>\n",
       "      <th>bldgtype</th>\n",
       "      <th>bsmtcond</th>\n",
       "      <th>bsmtexposure</th>\n",
       "      <th>bsmtfintype1</th>\n",
       "      <th>bsmtfintype2</th>\n",
       "      <th>bsmtqual</th>\n",
       "      <th>centralair</th>\n",
       "      <th>condition1</th>\n",
       "      <th>condition2</th>\n",
       "      <th>...</th>\n",
       "      <th>mszoning</th>\n",
       "      <th>neighborhood</th>\n",
       "      <th>paveddrive</th>\n",
       "      <th>poolqc</th>\n",
       "      <th>roofmatl</th>\n",
       "      <th>roofstyle</th>\n",
       "      <th>salecondition</th>\n",
       "      <th>saletype</th>\n",
       "      <th>street</th>\n",
       "      <th>utilities</th>\n",
       "    </tr>\n",
       "  </thead>\n",
       "  <tbody>\n",
       "    <tr>\n",
       "      <th>0</th>\n",
       "      <td>None</td>\n",
       "      <td>1Fam</td>\n",
       "      <td>TA</td>\n",
       "      <td>No</td>\n",
       "      <td>GLQ</td>\n",
       "      <td>Unf</td>\n",
       "      <td>Gd</td>\n",
       "      <td>Y</td>\n",
       "      <td>Norm</td>\n",
       "      <td>Norm</td>\n",
       "      <td>...</td>\n",
       "      <td>RL</td>\n",
       "      <td>CollgCr</td>\n",
       "      <td>Y</td>\n",
       "      <td>None</td>\n",
       "      <td>CompShg</td>\n",
       "      <td>Gable</td>\n",
       "      <td>Normal</td>\n",
       "      <td>WD</td>\n",
       "      <td>Pave</td>\n",
       "      <td>AllPub</td>\n",
       "    </tr>\n",
       "    <tr>\n",
       "      <th>1</th>\n",
       "      <td>None</td>\n",
       "      <td>1Fam</td>\n",
       "      <td>TA</td>\n",
       "      <td>Gd</td>\n",
       "      <td>ALQ</td>\n",
       "      <td>Unf</td>\n",
       "      <td>Gd</td>\n",
       "      <td>Y</td>\n",
       "      <td>Feedr</td>\n",
       "      <td>Norm</td>\n",
       "      <td>...</td>\n",
       "      <td>RL</td>\n",
       "      <td>Veenker</td>\n",
       "      <td>Y</td>\n",
       "      <td>None</td>\n",
       "      <td>CompShg</td>\n",
       "      <td>Gable</td>\n",
       "      <td>Normal</td>\n",
       "      <td>WD</td>\n",
       "      <td>Pave</td>\n",
       "      <td>AllPub</td>\n",
       "    </tr>\n",
       "    <tr>\n",
       "      <th>2</th>\n",
       "      <td>None</td>\n",
       "      <td>1Fam</td>\n",
       "      <td>TA</td>\n",
       "      <td>Mn</td>\n",
       "      <td>GLQ</td>\n",
       "      <td>Unf</td>\n",
       "      <td>Gd</td>\n",
       "      <td>Y</td>\n",
       "      <td>Norm</td>\n",
       "      <td>Norm</td>\n",
       "      <td>...</td>\n",
       "      <td>RL</td>\n",
       "      <td>CollgCr</td>\n",
       "      <td>Y</td>\n",
       "      <td>None</td>\n",
       "      <td>CompShg</td>\n",
       "      <td>Gable</td>\n",
       "      <td>Normal</td>\n",
       "      <td>WD</td>\n",
       "      <td>Pave</td>\n",
       "      <td>AllPub</td>\n",
       "    </tr>\n",
       "    <tr>\n",
       "      <th>3</th>\n",
       "      <td>None</td>\n",
       "      <td>1Fam</td>\n",
       "      <td>Gd</td>\n",
       "      <td>No</td>\n",
       "      <td>ALQ</td>\n",
       "      <td>Unf</td>\n",
       "      <td>TA</td>\n",
       "      <td>Y</td>\n",
       "      <td>Norm</td>\n",
       "      <td>Norm</td>\n",
       "      <td>...</td>\n",
       "      <td>RL</td>\n",
       "      <td>Crawfor</td>\n",
       "      <td>Y</td>\n",
       "      <td>None</td>\n",
       "      <td>CompShg</td>\n",
       "      <td>Gable</td>\n",
       "      <td>Abnorml</td>\n",
       "      <td>WD</td>\n",
       "      <td>Pave</td>\n",
       "      <td>AllPub</td>\n",
       "    </tr>\n",
       "    <tr>\n",
       "      <th>4</th>\n",
       "      <td>None</td>\n",
       "      <td>1Fam</td>\n",
       "      <td>TA</td>\n",
       "      <td>Av</td>\n",
       "      <td>GLQ</td>\n",
       "      <td>Unf</td>\n",
       "      <td>Gd</td>\n",
       "      <td>Y</td>\n",
       "      <td>Norm</td>\n",
       "      <td>Norm</td>\n",
       "      <td>...</td>\n",
       "      <td>RL</td>\n",
       "      <td>NoRidge</td>\n",
       "      <td>Y</td>\n",
       "      <td>None</td>\n",
       "      <td>CompShg</td>\n",
       "      <td>Gable</td>\n",
       "      <td>Normal</td>\n",
       "      <td>WD</td>\n",
       "      <td>Pave</td>\n",
       "      <td>AllPub</td>\n",
       "    </tr>\n",
       "  </tbody>\n",
       "</table>\n",
       "<p>5 rows × 43 columns</p>\n",
       "</div>"
      ],
      "text/plain": [
       "  alley bldgtype bsmtcond bsmtexposure bsmtfintype1 bsmtfintype2 bsmtqual  \\\n",
       "0  None     1Fam       TA           No          GLQ          Unf       Gd   \n",
       "1  None     1Fam       TA           Gd          ALQ          Unf       Gd   \n",
       "2  None     1Fam       TA           Mn          GLQ          Unf       Gd   \n",
       "3  None     1Fam       Gd           No          ALQ          Unf       TA   \n",
       "4  None     1Fam       TA           Av          GLQ          Unf       Gd   \n",
       "\n",
       "  centralair condition1 condition2    ...    mszoning neighborhood paveddrive  \\\n",
       "0          Y       Norm       Norm    ...          RL      CollgCr          Y   \n",
       "1          Y      Feedr       Norm    ...          RL      Veenker          Y   \n",
       "2          Y       Norm       Norm    ...          RL      CollgCr          Y   \n",
       "3          Y       Norm       Norm    ...          RL      Crawfor          Y   \n",
       "4          Y       Norm       Norm    ...          RL      NoRidge          Y   \n",
       "\n",
       "  poolqc roofmatl roofstyle salecondition saletype street utilities  \n",
       "0   None  CompShg     Gable        Normal       WD   Pave    AllPub  \n",
       "1   None  CompShg     Gable        Normal       WD   Pave    AllPub  \n",
       "2   None  CompShg     Gable        Normal       WD   Pave    AllPub  \n",
       "3   None  CompShg     Gable       Abnorml       WD   Pave    AllPub  \n",
       "4   None  CompShg     Gable        Normal       WD   Pave    AllPub  \n",
       "\n",
       "[5 rows x 43 columns]"
      ]
     },
     "execution_count": 20,
     "metadata": {},
     "output_type": "execute_result"
    }
   ],
   "source": [
    "cat_df.head()"
   ]
  },
  {
   "cell_type": "markdown",
   "metadata": {},
   "source": [
    "Numerical features with None values"
   ]
  },
  {
   "cell_type": "code",
   "execution_count": 21,
   "metadata": {},
   "outputs": [
    {
     "data": {
      "text/plain": [
       "['garageyrblt', 'lotfrontage', 'masvnrarea']"
      ]
     },
     "execution_count": 21,
     "metadata": {},
     "output_type": "execute_result"
    }
   ],
   "source": [
    "numerical_columns_with_null_rows = []\n",
    "for col in num_df.columns:\n",
    "    null_mask = num_df[col].isnull()\n",
    "    null_row_count = num_df[null_mask].shape[0]\n",
    "    if null_row_count > 0:\n",
    "        numerical_columns_with_null_rows.append(col)\n",
    "numerical_columns_with_null_rows"
   ]
  },
  {
   "cell_type": "code",
   "execution_count": 22,
   "metadata": {},
   "outputs": [
    {
     "data": {
      "text/html": [
       "<div>\n",
       "<style>\n",
       "    .dataframe thead tr:only-child th {\n",
       "        text-align: right;\n",
       "    }\n",
       "\n",
       "    .dataframe thead th {\n",
       "        text-align: left;\n",
       "    }\n",
       "\n",
       "    .dataframe tbody tr th {\n",
       "        vertical-align: top;\n",
       "    }\n",
       "</style>\n",
       "<table border=\"1\" class=\"dataframe\">\n",
       "  <thead>\n",
       "    <tr style=\"text-align: right;\">\n",
       "      <th></th>\n",
       "      <th>1stFlrSF</th>\n",
       "      <th>2ndFlrSF</th>\n",
       "      <th>3SsnPorch</th>\n",
       "      <th>bedroomabvgr</th>\n",
       "      <th>bsmtfinsf1</th>\n",
       "      <th>bsmtfinsf2</th>\n",
       "      <th>bsmtfullbath</th>\n",
       "      <th>bsmthalfbath</th>\n",
       "      <th>bsmtunfsf</th>\n",
       "      <th>enclosedporch</th>\n",
       "      <th>...</th>\n",
       "      <th>overallqual</th>\n",
       "      <th>poolarea</th>\n",
       "      <th>saleprice</th>\n",
       "      <th>screenporch</th>\n",
       "      <th>totalbsmtsf</th>\n",
       "      <th>totrmsabvgrd</th>\n",
       "      <th>wooddecksf</th>\n",
       "      <th>yearbuilt</th>\n",
       "      <th>yearremodadd</th>\n",
       "      <th>yrsold</th>\n",
       "    </tr>\n",
       "  </thead>\n",
       "  <tbody>\n",
       "    <tr>\n",
       "      <th>0</th>\n",
       "      <td>856</td>\n",
       "      <td>854</td>\n",
       "      <td>0</td>\n",
       "      <td>3</td>\n",
       "      <td>706</td>\n",
       "      <td>0</td>\n",
       "      <td>1</td>\n",
       "      <td>0</td>\n",
       "      <td>150</td>\n",
       "      <td>0</td>\n",
       "      <td>...</td>\n",
       "      <td>7</td>\n",
       "      <td>0</td>\n",
       "      <td>208500</td>\n",
       "      <td>0</td>\n",
       "      <td>856</td>\n",
       "      <td>8</td>\n",
       "      <td>0</td>\n",
       "      <td>2003</td>\n",
       "      <td>2003</td>\n",
       "      <td>2008</td>\n",
       "    </tr>\n",
       "    <tr>\n",
       "      <th>1</th>\n",
       "      <td>1262</td>\n",
       "      <td>0</td>\n",
       "      <td>0</td>\n",
       "      <td>3</td>\n",
       "      <td>978</td>\n",
       "      <td>0</td>\n",
       "      <td>0</td>\n",
       "      <td>1</td>\n",
       "      <td>284</td>\n",
       "      <td>0</td>\n",
       "      <td>...</td>\n",
       "      <td>6</td>\n",
       "      <td>0</td>\n",
       "      <td>181500</td>\n",
       "      <td>0</td>\n",
       "      <td>1262</td>\n",
       "      <td>6</td>\n",
       "      <td>298</td>\n",
       "      <td>1976</td>\n",
       "      <td>1976</td>\n",
       "      <td>2007</td>\n",
       "    </tr>\n",
       "    <tr>\n",
       "      <th>2</th>\n",
       "      <td>920</td>\n",
       "      <td>866</td>\n",
       "      <td>0</td>\n",
       "      <td>3</td>\n",
       "      <td>486</td>\n",
       "      <td>0</td>\n",
       "      <td>1</td>\n",
       "      <td>0</td>\n",
       "      <td>434</td>\n",
       "      <td>0</td>\n",
       "      <td>...</td>\n",
       "      <td>7</td>\n",
       "      <td>0</td>\n",
       "      <td>223500</td>\n",
       "      <td>0</td>\n",
       "      <td>920</td>\n",
       "      <td>6</td>\n",
       "      <td>0</td>\n",
       "      <td>2001</td>\n",
       "      <td>2002</td>\n",
       "      <td>2008</td>\n",
       "    </tr>\n",
       "    <tr>\n",
       "      <th>3</th>\n",
       "      <td>961</td>\n",
       "      <td>756</td>\n",
       "      <td>0</td>\n",
       "      <td>3</td>\n",
       "      <td>216</td>\n",
       "      <td>0</td>\n",
       "      <td>1</td>\n",
       "      <td>0</td>\n",
       "      <td>540</td>\n",
       "      <td>272</td>\n",
       "      <td>...</td>\n",
       "      <td>7</td>\n",
       "      <td>0</td>\n",
       "      <td>140000</td>\n",
       "      <td>0</td>\n",
       "      <td>756</td>\n",
       "      <td>7</td>\n",
       "      <td>0</td>\n",
       "      <td>1915</td>\n",
       "      <td>1970</td>\n",
       "      <td>2006</td>\n",
       "    </tr>\n",
       "    <tr>\n",
       "      <th>4</th>\n",
       "      <td>1145</td>\n",
       "      <td>1053</td>\n",
       "      <td>0</td>\n",
       "      <td>4</td>\n",
       "      <td>655</td>\n",
       "      <td>0</td>\n",
       "      <td>1</td>\n",
       "      <td>0</td>\n",
       "      <td>490</td>\n",
       "      <td>0</td>\n",
       "      <td>...</td>\n",
       "      <td>8</td>\n",
       "      <td>0</td>\n",
       "      <td>250000</td>\n",
       "      <td>0</td>\n",
       "      <td>1145</td>\n",
       "      <td>9</td>\n",
       "      <td>192</td>\n",
       "      <td>2000</td>\n",
       "      <td>2000</td>\n",
       "      <td>2008</td>\n",
       "    </tr>\n",
       "    <tr>\n",
       "      <th>5</th>\n",
       "      <td>796</td>\n",
       "      <td>566</td>\n",
       "      <td>320</td>\n",
       "      <td>1</td>\n",
       "      <td>732</td>\n",
       "      <td>0</td>\n",
       "      <td>1</td>\n",
       "      <td>0</td>\n",
       "      <td>64</td>\n",
       "      <td>0</td>\n",
       "      <td>...</td>\n",
       "      <td>5</td>\n",
       "      <td>0</td>\n",
       "      <td>143000</td>\n",
       "      <td>0</td>\n",
       "      <td>796</td>\n",
       "      <td>5</td>\n",
       "      <td>40</td>\n",
       "      <td>1993</td>\n",
       "      <td>1995</td>\n",
       "      <td>2009</td>\n",
       "    </tr>\n",
       "    <tr>\n",
       "      <th>6</th>\n",
       "      <td>1694</td>\n",
       "      <td>0</td>\n",
       "      <td>0</td>\n",
       "      <td>3</td>\n",
       "      <td>1369</td>\n",
       "      <td>0</td>\n",
       "      <td>1</td>\n",
       "      <td>0</td>\n",
       "      <td>317</td>\n",
       "      <td>0</td>\n",
       "      <td>...</td>\n",
       "      <td>8</td>\n",
       "      <td>0</td>\n",
       "      <td>307000</td>\n",
       "      <td>0</td>\n",
       "      <td>1686</td>\n",
       "      <td>7</td>\n",
       "      <td>255</td>\n",
       "      <td>2004</td>\n",
       "      <td>2005</td>\n",
       "      <td>2007</td>\n",
       "    </tr>\n",
       "    <tr>\n",
       "      <th>7</th>\n",
       "      <td>1107</td>\n",
       "      <td>983</td>\n",
       "      <td>0</td>\n",
       "      <td>3</td>\n",
       "      <td>859</td>\n",
       "      <td>32</td>\n",
       "      <td>1</td>\n",
       "      <td>0</td>\n",
       "      <td>216</td>\n",
       "      <td>228</td>\n",
       "      <td>...</td>\n",
       "      <td>7</td>\n",
       "      <td>0</td>\n",
       "      <td>200000</td>\n",
       "      <td>0</td>\n",
       "      <td>1107</td>\n",
       "      <td>7</td>\n",
       "      <td>235</td>\n",
       "      <td>1973</td>\n",
       "      <td>1973</td>\n",
       "      <td>2009</td>\n",
       "    </tr>\n",
       "    <tr>\n",
       "      <th>8</th>\n",
       "      <td>1022</td>\n",
       "      <td>752</td>\n",
       "      <td>0</td>\n",
       "      <td>2</td>\n",
       "      <td>0</td>\n",
       "      <td>0</td>\n",
       "      <td>0</td>\n",
       "      <td>0</td>\n",
       "      <td>952</td>\n",
       "      <td>205</td>\n",
       "      <td>...</td>\n",
       "      <td>7</td>\n",
       "      <td>0</td>\n",
       "      <td>129900</td>\n",
       "      <td>0</td>\n",
       "      <td>952</td>\n",
       "      <td>8</td>\n",
       "      <td>90</td>\n",
       "      <td>1931</td>\n",
       "      <td>1950</td>\n",
       "      <td>2008</td>\n",
       "    </tr>\n",
       "    <tr>\n",
       "      <th>9</th>\n",
       "      <td>1077</td>\n",
       "      <td>0</td>\n",
       "      <td>0</td>\n",
       "      <td>2</td>\n",
       "      <td>851</td>\n",
       "      <td>0</td>\n",
       "      <td>1</td>\n",
       "      <td>0</td>\n",
       "      <td>140</td>\n",
       "      <td>0</td>\n",
       "      <td>...</td>\n",
       "      <td>5</td>\n",
       "      <td>0</td>\n",
       "      <td>118000</td>\n",
       "      <td>0</td>\n",
       "      <td>991</td>\n",
       "      <td>5</td>\n",
       "      <td>0</td>\n",
       "      <td>1939</td>\n",
       "      <td>1950</td>\n",
       "      <td>2008</td>\n",
       "    </tr>\n",
       "  </tbody>\n",
       "</table>\n",
       "<p>10 rows × 38 columns</p>\n",
       "</div>"
      ],
      "text/plain": [
       "   1stFlrSF  2ndFlrSF  3SsnPorch  bedroomabvgr  bsmtfinsf1  bsmtfinsf2  \\\n",
       "0       856       854          0             3         706           0   \n",
       "1      1262         0          0             3         978           0   \n",
       "2       920       866          0             3         486           0   \n",
       "3       961       756          0             3         216           0   \n",
       "4      1145      1053          0             4         655           0   \n",
       "5       796       566        320             1         732           0   \n",
       "6      1694         0          0             3        1369           0   \n",
       "7      1107       983          0             3         859          32   \n",
       "8      1022       752          0             2           0           0   \n",
       "9      1077         0          0             2         851           0   \n",
       "\n",
       "   bsmtfullbath  bsmthalfbath  bsmtunfsf  enclosedporch   ...    overallqual  \\\n",
       "0             1             0        150              0   ...              7   \n",
       "1             0             1        284              0   ...              6   \n",
       "2             1             0        434              0   ...              7   \n",
       "3             1             0        540            272   ...              7   \n",
       "4             1             0        490              0   ...              8   \n",
       "5             1             0         64              0   ...              5   \n",
       "6             1             0        317              0   ...              8   \n",
       "7             1             0        216            228   ...              7   \n",
       "8             0             0        952            205   ...              7   \n",
       "9             1             0        140              0   ...              5   \n",
       "\n",
       "   poolarea  saleprice  screenporch  totalbsmtsf  totrmsabvgrd  wooddecksf  \\\n",
       "0         0     208500            0          856             8           0   \n",
       "1         0     181500            0         1262             6         298   \n",
       "2         0     223500            0          920             6           0   \n",
       "3         0     140000            0          756             7           0   \n",
       "4         0     250000            0         1145             9         192   \n",
       "5         0     143000            0          796             5          40   \n",
       "6         0     307000            0         1686             7         255   \n",
       "7         0     200000            0         1107             7         235   \n",
       "8         0     129900            0          952             8          90   \n",
       "9         0     118000            0          991             5           0   \n",
       "\n",
       "   yearbuilt  yearremodadd  yrsold  \n",
       "0       2003          2003    2008  \n",
       "1       1976          1976    2007  \n",
       "2       2001          2002    2008  \n",
       "3       1915          1970    2006  \n",
       "4       2000          2000    2008  \n",
       "5       1993          1995    2009  \n",
       "6       2004          2005    2007  \n",
       "7       1973          1973    2009  \n",
       "8       1931          1950    2008  \n",
       "9       1939          1950    2008  \n",
       "\n",
       "[10 rows x 38 columns]"
      ]
     },
     "execution_count": 22,
     "metadata": {},
     "output_type": "execute_result"
    }
   ],
   "source": [
    "num_df.head(10)"
   ]
  },
  {
   "cell_type": "code",
   "execution_count": 23,
   "metadata": {},
   "outputs": [
    {
     "name": "stderr",
     "output_type": "stream",
     "text": [
      "C:\\Users\\asrath\\AppData\\Local\\Continuum\\anaconda3\\lib\\site-packages\\ipykernel_launcher.py:2: SettingWithCopyWarning: \n",
      "A value is trying to be set on a copy of a slice from a DataFrame.\n",
      "Try using .loc[row_indexer,col_indexer] = value instead\n",
      "\n",
      "See the caveats in the documentation: http://pandas.pydata.org/pandas-docs/stable/indexing.html#indexing-view-versus-copy\n",
      "  \n"
     ]
    }
   ],
   "source": [
    "for col in numerical_columns_with_null_rows:\n",
    "    num_df[col] = num_df[col].fillna(num_df[col].mean())"
   ]
  },
  {
   "cell_type": "code",
   "execution_count": 24,
   "metadata": {
    "scrolled": true
   },
   "outputs": [
    {
     "data": {
      "text/html": [
       "<div>\n",
       "<style>\n",
       "    .dataframe thead tr:only-child th {\n",
       "        text-align: right;\n",
       "    }\n",
       "\n",
       "    .dataframe thead th {\n",
       "        text-align: left;\n",
       "    }\n",
       "\n",
       "    .dataframe tbody tr th {\n",
       "        vertical-align: top;\n",
       "    }\n",
       "</style>\n",
       "<table border=\"1\" class=\"dataframe\">\n",
       "  <thead>\n",
       "    <tr style=\"text-align: right;\">\n",
       "      <th></th>\n",
       "      <th>1stFlrSF</th>\n",
       "      <th>2ndFlrSF</th>\n",
       "      <th>3SsnPorch</th>\n",
       "      <th>bedroomabvgr</th>\n",
       "      <th>bsmtfinsf1</th>\n",
       "      <th>bsmtfinsf2</th>\n",
       "      <th>bsmtfullbath</th>\n",
       "      <th>bsmthalfbath</th>\n",
       "      <th>bsmtunfsf</th>\n",
       "      <th>enclosedporch</th>\n",
       "      <th>...</th>\n",
       "      <th>overallqual</th>\n",
       "      <th>poolarea</th>\n",
       "      <th>saleprice</th>\n",
       "      <th>screenporch</th>\n",
       "      <th>totalbsmtsf</th>\n",
       "      <th>totrmsabvgrd</th>\n",
       "      <th>wooddecksf</th>\n",
       "      <th>yearbuilt</th>\n",
       "      <th>yearremodadd</th>\n",
       "      <th>yrsold</th>\n",
       "    </tr>\n",
       "  </thead>\n",
       "  <tbody>\n",
       "    <tr>\n",
       "      <th>0</th>\n",
       "      <td>856</td>\n",
       "      <td>854</td>\n",
       "      <td>0</td>\n",
       "      <td>3</td>\n",
       "      <td>706</td>\n",
       "      <td>0</td>\n",
       "      <td>1</td>\n",
       "      <td>0</td>\n",
       "      <td>150</td>\n",
       "      <td>0</td>\n",
       "      <td>...</td>\n",
       "      <td>7</td>\n",
       "      <td>0</td>\n",
       "      <td>208500</td>\n",
       "      <td>0</td>\n",
       "      <td>856</td>\n",
       "      <td>8</td>\n",
       "      <td>0</td>\n",
       "      <td>2003</td>\n",
       "      <td>2003</td>\n",
       "      <td>2008</td>\n",
       "    </tr>\n",
       "    <tr>\n",
       "      <th>1</th>\n",
       "      <td>1262</td>\n",
       "      <td>0</td>\n",
       "      <td>0</td>\n",
       "      <td>3</td>\n",
       "      <td>978</td>\n",
       "      <td>0</td>\n",
       "      <td>0</td>\n",
       "      <td>1</td>\n",
       "      <td>284</td>\n",
       "      <td>0</td>\n",
       "      <td>...</td>\n",
       "      <td>6</td>\n",
       "      <td>0</td>\n",
       "      <td>181500</td>\n",
       "      <td>0</td>\n",
       "      <td>1262</td>\n",
       "      <td>6</td>\n",
       "      <td>298</td>\n",
       "      <td>1976</td>\n",
       "      <td>1976</td>\n",
       "      <td>2007</td>\n",
       "    </tr>\n",
       "    <tr>\n",
       "      <th>2</th>\n",
       "      <td>920</td>\n",
       "      <td>866</td>\n",
       "      <td>0</td>\n",
       "      <td>3</td>\n",
       "      <td>486</td>\n",
       "      <td>0</td>\n",
       "      <td>1</td>\n",
       "      <td>0</td>\n",
       "      <td>434</td>\n",
       "      <td>0</td>\n",
       "      <td>...</td>\n",
       "      <td>7</td>\n",
       "      <td>0</td>\n",
       "      <td>223500</td>\n",
       "      <td>0</td>\n",
       "      <td>920</td>\n",
       "      <td>6</td>\n",
       "      <td>0</td>\n",
       "      <td>2001</td>\n",
       "      <td>2002</td>\n",
       "      <td>2008</td>\n",
       "    </tr>\n",
       "    <tr>\n",
       "      <th>3</th>\n",
       "      <td>961</td>\n",
       "      <td>756</td>\n",
       "      <td>0</td>\n",
       "      <td>3</td>\n",
       "      <td>216</td>\n",
       "      <td>0</td>\n",
       "      <td>1</td>\n",
       "      <td>0</td>\n",
       "      <td>540</td>\n",
       "      <td>272</td>\n",
       "      <td>...</td>\n",
       "      <td>7</td>\n",
       "      <td>0</td>\n",
       "      <td>140000</td>\n",
       "      <td>0</td>\n",
       "      <td>756</td>\n",
       "      <td>7</td>\n",
       "      <td>0</td>\n",
       "      <td>1915</td>\n",
       "      <td>1970</td>\n",
       "      <td>2006</td>\n",
       "    </tr>\n",
       "    <tr>\n",
       "      <th>4</th>\n",
       "      <td>1145</td>\n",
       "      <td>1053</td>\n",
       "      <td>0</td>\n",
       "      <td>4</td>\n",
       "      <td>655</td>\n",
       "      <td>0</td>\n",
       "      <td>1</td>\n",
       "      <td>0</td>\n",
       "      <td>490</td>\n",
       "      <td>0</td>\n",
       "      <td>...</td>\n",
       "      <td>8</td>\n",
       "      <td>0</td>\n",
       "      <td>250000</td>\n",
       "      <td>0</td>\n",
       "      <td>1145</td>\n",
       "      <td>9</td>\n",
       "      <td>192</td>\n",
       "      <td>2000</td>\n",
       "      <td>2000</td>\n",
       "      <td>2008</td>\n",
       "    </tr>\n",
       "    <tr>\n",
       "      <th>5</th>\n",
       "      <td>796</td>\n",
       "      <td>566</td>\n",
       "      <td>320</td>\n",
       "      <td>1</td>\n",
       "      <td>732</td>\n",
       "      <td>0</td>\n",
       "      <td>1</td>\n",
       "      <td>0</td>\n",
       "      <td>64</td>\n",
       "      <td>0</td>\n",
       "      <td>...</td>\n",
       "      <td>5</td>\n",
       "      <td>0</td>\n",
       "      <td>143000</td>\n",
       "      <td>0</td>\n",
       "      <td>796</td>\n",
       "      <td>5</td>\n",
       "      <td>40</td>\n",
       "      <td>1993</td>\n",
       "      <td>1995</td>\n",
       "      <td>2009</td>\n",
       "    </tr>\n",
       "    <tr>\n",
       "      <th>6</th>\n",
       "      <td>1694</td>\n",
       "      <td>0</td>\n",
       "      <td>0</td>\n",
       "      <td>3</td>\n",
       "      <td>1369</td>\n",
       "      <td>0</td>\n",
       "      <td>1</td>\n",
       "      <td>0</td>\n",
       "      <td>317</td>\n",
       "      <td>0</td>\n",
       "      <td>...</td>\n",
       "      <td>8</td>\n",
       "      <td>0</td>\n",
       "      <td>307000</td>\n",
       "      <td>0</td>\n",
       "      <td>1686</td>\n",
       "      <td>7</td>\n",
       "      <td>255</td>\n",
       "      <td>2004</td>\n",
       "      <td>2005</td>\n",
       "      <td>2007</td>\n",
       "    </tr>\n",
       "    <tr>\n",
       "      <th>7</th>\n",
       "      <td>1107</td>\n",
       "      <td>983</td>\n",
       "      <td>0</td>\n",
       "      <td>3</td>\n",
       "      <td>859</td>\n",
       "      <td>32</td>\n",
       "      <td>1</td>\n",
       "      <td>0</td>\n",
       "      <td>216</td>\n",
       "      <td>228</td>\n",
       "      <td>...</td>\n",
       "      <td>7</td>\n",
       "      <td>0</td>\n",
       "      <td>200000</td>\n",
       "      <td>0</td>\n",
       "      <td>1107</td>\n",
       "      <td>7</td>\n",
       "      <td>235</td>\n",
       "      <td>1973</td>\n",
       "      <td>1973</td>\n",
       "      <td>2009</td>\n",
       "    </tr>\n",
       "    <tr>\n",
       "      <th>8</th>\n",
       "      <td>1022</td>\n",
       "      <td>752</td>\n",
       "      <td>0</td>\n",
       "      <td>2</td>\n",
       "      <td>0</td>\n",
       "      <td>0</td>\n",
       "      <td>0</td>\n",
       "      <td>0</td>\n",
       "      <td>952</td>\n",
       "      <td>205</td>\n",
       "      <td>...</td>\n",
       "      <td>7</td>\n",
       "      <td>0</td>\n",
       "      <td>129900</td>\n",
       "      <td>0</td>\n",
       "      <td>952</td>\n",
       "      <td>8</td>\n",
       "      <td>90</td>\n",
       "      <td>1931</td>\n",
       "      <td>1950</td>\n",
       "      <td>2008</td>\n",
       "    </tr>\n",
       "    <tr>\n",
       "      <th>9</th>\n",
       "      <td>1077</td>\n",
       "      <td>0</td>\n",
       "      <td>0</td>\n",
       "      <td>2</td>\n",
       "      <td>851</td>\n",
       "      <td>0</td>\n",
       "      <td>1</td>\n",
       "      <td>0</td>\n",
       "      <td>140</td>\n",
       "      <td>0</td>\n",
       "      <td>...</td>\n",
       "      <td>5</td>\n",
       "      <td>0</td>\n",
       "      <td>118000</td>\n",
       "      <td>0</td>\n",
       "      <td>991</td>\n",
       "      <td>5</td>\n",
       "      <td>0</td>\n",
       "      <td>1939</td>\n",
       "      <td>1950</td>\n",
       "      <td>2008</td>\n",
       "    </tr>\n",
       "  </tbody>\n",
       "</table>\n",
       "<p>10 rows × 38 columns</p>\n",
       "</div>"
      ],
      "text/plain": [
       "   1stFlrSF  2ndFlrSF  3SsnPorch  bedroomabvgr  bsmtfinsf1  bsmtfinsf2  \\\n",
       "0       856       854          0             3         706           0   \n",
       "1      1262         0          0             3         978           0   \n",
       "2       920       866          0             3         486           0   \n",
       "3       961       756          0             3         216           0   \n",
       "4      1145      1053          0             4         655           0   \n",
       "5       796       566        320             1         732           0   \n",
       "6      1694         0          0             3        1369           0   \n",
       "7      1107       983          0             3         859          32   \n",
       "8      1022       752          0             2           0           0   \n",
       "9      1077         0          0             2         851           0   \n",
       "\n",
       "   bsmtfullbath  bsmthalfbath  bsmtunfsf  enclosedporch   ...    overallqual  \\\n",
       "0             1             0        150              0   ...              7   \n",
       "1             0             1        284              0   ...              6   \n",
       "2             1             0        434              0   ...              7   \n",
       "3             1             0        540            272   ...              7   \n",
       "4             1             0        490              0   ...              8   \n",
       "5             1             0         64              0   ...              5   \n",
       "6             1             0        317              0   ...              8   \n",
       "7             1             0        216            228   ...              7   \n",
       "8             0             0        952            205   ...              7   \n",
       "9             1             0        140              0   ...              5   \n",
       "\n",
       "   poolarea  saleprice  screenporch  totalbsmtsf  totrmsabvgrd  wooddecksf  \\\n",
       "0         0     208500            0          856             8           0   \n",
       "1         0     181500            0         1262             6         298   \n",
       "2         0     223500            0          920             6           0   \n",
       "3         0     140000            0          756             7           0   \n",
       "4         0     250000            0         1145             9         192   \n",
       "5         0     143000            0          796             5          40   \n",
       "6         0     307000            0         1686             7         255   \n",
       "7         0     200000            0         1107             7         235   \n",
       "8         0     129900            0          952             8          90   \n",
       "9         0     118000            0          991             5           0   \n",
       "\n",
       "   yearbuilt  yearremodadd  yrsold  \n",
       "0       2003          2003    2008  \n",
       "1       1976          1976    2007  \n",
       "2       2001          2002    2008  \n",
       "3       1915          1970    2006  \n",
       "4       2000          2000    2008  \n",
       "5       1993          1995    2009  \n",
       "6       2004          2005    2007  \n",
       "7       1973          1973    2009  \n",
       "8       1931          1950    2008  \n",
       "9       1939          1950    2008  \n",
       "\n",
       "[10 rows x 38 columns]"
      ]
     },
     "execution_count": 24,
     "metadata": {},
     "output_type": "execute_result"
    }
   ],
   "source": [
    "num_df.head(10)"
   ]
  },
  {
   "cell_type": "markdown",
   "metadata": {},
   "source": [
    "Categorical features with None values"
   ]
  },
  {
   "cell_type": "code",
   "execution_count": 25,
   "metadata": {},
   "outputs": [
    {
     "data": {
      "text/plain": [
       "['alley',\n",
       " 'bsmtcond',\n",
       " 'bsmtexposure',\n",
       " 'bsmtfintype1',\n",
       " 'bsmtfintype2',\n",
       " 'bsmtqual',\n",
       " 'electrical',\n",
       " 'fence',\n",
       " 'fireplacequ',\n",
       " 'garagecond',\n",
       " 'garagefinish',\n",
       " 'garagequal',\n",
       " 'garagetype',\n",
       " 'masvnrtype',\n",
       " 'miscfeature',\n",
       " 'poolqc']"
      ]
     },
     "execution_count": 25,
     "metadata": {},
     "output_type": "execute_result"
    }
   ],
   "source": [
    "categorical_columns_with_null_rows = []\n",
    "for col in cat_df.columns:\n",
    "    null_mask = cat_df[col].isnull()\n",
    "    null_row_count = cat_df[null_mask].shape[0]\n",
    "    if null_row_count > 0:\n",
    "        categorical_columns_with_null_rows.append(col)\n",
    "categorical_columns_with_null_rows"
   ]
  },
  {
   "cell_type": "code",
   "execution_count": 26,
   "metadata": {},
   "outputs": [
    {
     "data": {
      "text/plain": [
       "object    43\n",
       "dtype: int64"
      ]
     },
     "execution_count": 26,
     "metadata": {},
     "output_type": "execute_result"
    }
   ],
   "source": [
    "cat_df.dtypes.value_counts()"
   ]
  },
  {
   "cell_type": "code",
   "execution_count": 27,
   "metadata": {},
   "outputs": [
    {
     "name": "stderr",
     "output_type": "stream",
     "text": [
      "C:\\Users\\asrath\\AppData\\Local\\Continuum\\anaconda3\\lib\\site-packages\\pandas\\core\\generic.py:3660: SettingWithCopyWarning: \n",
      "A value is trying to be set on a copy of a slice from a DataFrame\n",
      "\n",
      "See the caveats in the documentation: http://pandas.pydata.org/pandas-docs/stable/indexing.html#indexing-view-versus-copy\n",
      "  self._update_inplace(new_data)\n"
     ]
    }
   ],
   "source": [
    "for col in cat_df.columns:\n",
    "    cat_df[col].fillna(cat_df[col].mode().values[0], inplace=True)"
   ]
  },
  {
   "cell_type": "code",
   "execution_count": 28,
   "metadata": {},
   "outputs": [
    {
     "data": {
      "text/plain": [
       "object    43\n",
       "dtype: int64"
      ]
     },
     "execution_count": 28,
     "metadata": {},
     "output_type": "execute_result"
    }
   ],
   "source": [
    "cat_df.dtypes.value_counts()"
   ]
  },
  {
   "cell_type": "code",
   "execution_count": 29,
   "metadata": {},
   "outputs": [
    {
     "data": {
      "image/png": "[encoded data removed]",
      "text/plain": [
       "<matplotlib.figure.Figure at 0x12e742b0>"
      ]
     },
     "metadata": {},
     "output_type": "display_data"
    }
   ],
   "source": [
    "fig = plt.figure(figsize=(30,10))\n",
    "for i, col in enumerate(num_df.columns):\n",
    "    fig.add_subplot(6, 7, 1+i)\n",
    "    sns.distplot(num_df[col], label=col)\n",
    "    plt.axvline(num_df[col].mean(), c='r')\n",
    "    plt.axvline(num_df[col].median(), c='g')\n",
    "    plt.axvline(num_df[col].mode()[0], c='m')\n",
    "    plt.legend()"
   ]
  },
  {
   "cell_type": "code",
   "execution_count": 30,
   "metadata": {
    "collapsed": true
   },
   "outputs": [],
   "source": [
    "merged_df = pd.merge(num_df,cat_df, left_index=True, right_index=True)"
   ]
  },
  {
   "cell_type": "code",
   "execution_count": 31,
   "metadata": {},
   "outputs": [
    {
     "data": {
      "text/plain": [
       "<matplotlib.axes._subplots.AxesSubplot at 0x12e9ec88>"
      ]
     },
     "execution_count": 31,
     "metadata": {},
     "output_type": "execute_result"
    },
    {
     "data": {
      "image/png": "[encoded data removed]",
      "text/plain": [
       "<matplotlib.figure.Figure at 0x1282e390>"
      ]
     },
     "metadata": {},
     "output_type": "display_data"
    }
   ],
   "source": [
    "f, ax = plt.subplots(figsize=(15,10))\n",
    "sns.heatmap(merged_df.corr(),cmap = 'coolwarm')"
   ]
  },
  {
   "cell_type": "code",
   "execution_count": 32,
   "metadata": {},
   "outputs": [
    {
     "name": "stdout",
     "output_type": "stream",
     "text": [
      "<class 'pandas.core.frame.DataFrame'>\n",
      "RangeIndex: 1460 entries, 0 to 1459\n",
      "Data columns (total 81 columns):\n",
      "1stFlrSF         1460 non-null int64\n",
      "2ndFlrSF         1460 non-null int64\n",
      "3SsnPorch        1460 non-null int64\n",
      "bedroomabvgr     1460 non-null int64\n",
      "bsmtfinsf1       1460 non-null int64\n",
      "bsmtfinsf2       1460 non-null int64\n",
      "bsmtfullbath     1460 non-null int64\n",
      "bsmthalfbath     1460 non-null int64\n",
      "bsmtunfsf        1460 non-null int64\n",
      "enclosedporch    1460 non-null int64\n",
      "fireplaces       1460 non-null int64\n",
      "fullbath         1460 non-null int64\n",
      "garagearea       1460 non-null int64\n",
      "garagecars       1460 non-null int64\n",
      "garageyrblt      1460 non-null float64\n",
      "grlivarea        1460 non-null int64\n",
      "halfbath         1460 non-null int64\n",
      "id               1460 non-null int64\n",
      "kitchenabvgr     1460 non-null int64\n",
      "lotarea          1460 non-null int64\n",
      "lotfrontage      1460 non-null float64\n",
      "lowqualfinsf     1460 non-null int64\n",
      "masvnrarea       1460 non-null float64\n",
      "miscval          1460 non-null int64\n",
      "mosold           1460 non-null int64\n",
      "mssubclass       1460 non-null int64\n",
      "openporchsf      1460 non-null int64\n",
      "overallcond      1460 non-null int64\n",
      "overallqual      1460 non-null int64\n",
      "poolarea         1460 non-null int64\n",
      "saleprice        1460 non-null int64\n",
      "screenporch      1460 non-null int64\n",
      "totalbsmtsf      1460 non-null int64\n",
      "totrmsabvgrd     1460 non-null int64\n",
      "wooddecksf       1460 non-null int64\n",
      "yearbuilt        1460 non-null int64\n",
      "yearremodadd     1460 non-null int64\n",
      "yrsold           1460 non-null int64\n",
      "alley            1460 non-null object\n",
      "bldgtype         1460 non-null object\n",
      "bsmtcond         1460 non-null object\n",
      "bsmtexposure     1460 non-null object\n",
      "bsmtfintype1     1460 non-null object\n",
      "bsmtfintype2     1460 non-null object\n",
      "bsmtqual         1460 non-null object\n",
      "centralair       1460 non-null object\n",
      "condition1       1460 non-null object\n",
      "condition2       1460 non-null object\n",
      "electrical       1460 non-null object\n",
      "extercond        1460 non-null object\n",
      "exterior1st      1460 non-null object\n",
      "exterior2nd      1460 non-null object\n",
      "exterqual        1460 non-null object\n",
      "fence            1460 non-null object\n",
      "fireplacequ      1460 non-null object\n",
      "foundation       1460 non-null object\n",
      "functional       1460 non-null object\n",
      "garagecond       1460 non-null object\n",
      "garagefinish     1460 non-null object\n",
      "garagequal       1460 non-null object\n",
      "garagetype       1460 non-null object\n",
      "heating          1460 non-null object\n",
      "heatingqc        1460 non-null object\n",
      "housestyle       1460 non-null object\n",
      "kitchenqual      1460 non-null object\n",
      "landcontour      1460 non-null object\n",
      "landslope        1460 non-null object\n",
      "lotconfig        1460 non-null object\n",
      "lotshape         1460 non-null object\n",
      "masvnrtype       1460 non-null object\n",
      "miscfeature      1460 non-null object\n",
      "mszoning         1460 non-null object\n",
      "neighborhood     1460 non-null object\n",
      "paveddrive       1460 non-null object\n",
      "poolqc           1460 non-null object\n",
      "roofmatl         1460 non-null object\n",
      "roofstyle        1460 non-null object\n",
      "salecondition    1460 non-null object\n",
      "saletype         1460 non-null object\n",
      "street           1460 non-null object\n",
      "utilities        1460 non-null object\n",
      "dtypes: float64(3), int64(35), object(43)\n",
      "memory usage: 924.0+ KB\n"
     ]
    }
   ],
   "source": [
    "merged_df.info()"
   ]
  },
  {
   "cell_type": "code",
   "execution_count": null,
   "metadata": {
    "collapsed": true
   },
   "outputs": [],
   "source": []
  },
  {
   "cell_type": "code",
   "execution_count": 32,
   "metadata": {
    "collapsed": true
   },
   "outputs": [],
   "source": [
    "feature_df = merged_df.drop(['id','saleprice'],axis=1)"
   ]
  },
  {
   "cell_type": "code",
   "execution_count": 33,
   "metadata": {},
   "outputs": [
    {
     "data": {
      "text/html": [
       "<div>\n",
       "<style>\n",
       "    .dataframe thead tr:only-child th {\n",
       "        text-align: right;\n",
       "    }\n",
       "\n",
       "    .dataframe thead th {\n",
       "        text-align: left;\n",
       "    }\n",
       "\n",
       "    .dataframe tbody tr th {\n",
       "        vertical-align: top;\n",
       "    }\n",
       "</style>\n",
       "<table border=\"1\" class=\"dataframe\">\n",
       "  <thead>\n",
       "    <tr style=\"text-align: right;\">\n",
       "      <th></th>\n",
       "      <th>1stFlrSF</th>\n",
       "      <th>2ndFlrSF</th>\n",
       "      <th>3SsnPorch</th>\n",
       "      <th>bedroomabvgr</th>\n",
       "      <th>bsmtfinsf1</th>\n",
       "      <th>bsmtfinsf2</th>\n",
       "      <th>bsmtfullbath</th>\n",
       "      <th>bsmthalfbath</th>\n",
       "      <th>bsmtunfsf</th>\n",
       "      <th>enclosedporch</th>\n",
       "      <th>...</th>\n",
       "      <th>mszoning</th>\n",
       "      <th>neighborhood</th>\n",
       "      <th>paveddrive</th>\n",
       "      <th>poolqc</th>\n",
       "      <th>roofmatl</th>\n",
       "      <th>roofstyle</th>\n",
       "      <th>salecondition</th>\n",
       "      <th>saletype</th>\n",
       "      <th>street</th>\n",
       "      <th>utilities</th>\n",
       "    </tr>\n",
       "  </thead>\n",
       "  <tbody>\n",
       "    <tr>\n",
       "      <th>0</th>\n",
       "      <td>856</td>\n",
       "      <td>854</td>\n",
       "      <td>0</td>\n",
       "      <td>3</td>\n",
       "      <td>706</td>\n",
       "      <td>0</td>\n",
       "      <td>1</td>\n",
       "      <td>0</td>\n",
       "      <td>150</td>\n",
       "      <td>0</td>\n",
       "      <td>...</td>\n",
       "      <td>RL</td>\n",
       "      <td>CollgCr</td>\n",
       "      <td>Y</td>\n",
       "      <td>Gd</td>\n",
       "      <td>CompShg</td>\n",
       "      <td>Gable</td>\n",
       "      <td>Normal</td>\n",
       "      <td>WD</td>\n",
       "      <td>Pave</td>\n",
       "      <td>AllPub</td>\n",
       "    </tr>\n",
       "    <tr>\n",
       "      <th>1</th>\n",
       "      <td>1262</td>\n",
       "      <td>0</td>\n",
       "      <td>0</td>\n",
       "      <td>3</td>\n",
       "      <td>978</td>\n",
       "      <td>0</td>\n",
       "      <td>0</td>\n",
       "      <td>1</td>\n",
       "      <td>284</td>\n",
       "      <td>0</td>\n",
       "      <td>...</td>\n",
       "      <td>RL</td>\n",
       "      <td>Veenker</td>\n",
       "      <td>Y</td>\n",
       "      <td>Gd</td>\n",
       "      <td>CompShg</td>\n",
       "      <td>Gable</td>\n",
       "      <td>Normal</td>\n",
       "      <td>WD</td>\n",
       "      <td>Pave</td>\n",
       "      <td>AllPub</td>\n",
       "    </tr>\n",
       "    <tr>\n",
       "      <th>2</th>\n",
       "      <td>920</td>\n",
       "      <td>866</td>\n",
       "      <td>0</td>\n",
       "      <td>3</td>\n",
       "      <td>486</td>\n",
       "      <td>0</td>\n",
       "      <td>1</td>\n",
       "      <td>0</td>\n",
       "      <td>434</td>\n",
       "      <td>0</td>\n",
       "      <td>...</td>\n",
       "      <td>RL</td>\n",
       "      <td>CollgCr</td>\n",
       "      <td>Y</td>\n",
       "      <td>Gd</td>\n",
       "      <td>CompShg</td>\n",
       "      <td>Gable</td>\n",
       "      <td>Normal</td>\n",
       "      <td>WD</td>\n",
       "      <td>Pave</td>\n",
       "      <td>AllPub</td>\n",
       "    </tr>\n",
       "    <tr>\n",
       "      <th>3</th>\n",
       "      <td>961</td>\n",
       "      <td>756</td>\n",
       "      <td>0</td>\n",
       "      <td>3</td>\n",
       "      <td>216</td>\n",
       "      <td>0</td>\n",
       "      <td>1</td>\n",
       "      <td>0</td>\n",
       "      <td>540</td>\n",
       "      <td>272</td>\n",
       "      <td>...</td>\n",
       "      <td>RL</td>\n",
       "      <td>Crawfor</td>\n",
       "      <td>Y</td>\n",
       "      <td>Gd</td>\n",
       "      <td>CompShg</td>\n",
       "      <td>Gable</td>\n",
       "      <td>Abnorml</td>\n",
       "      <td>WD</td>\n",
       "      <td>Pave</td>\n",
       "      <td>AllPub</td>\n",
       "    </tr>\n",
       "    <tr>\n",
       "      <th>4</th>\n",
       "      <td>1145</td>\n",
       "      <td>1053</td>\n",
       "      <td>0</td>\n",
       "      <td>4</td>\n",
       "      <td>655</td>\n",
       "      <td>0</td>\n",
       "      <td>1</td>\n",
       "      <td>0</td>\n",
       "      <td>490</td>\n",
       "      <td>0</td>\n",
       "      <td>...</td>\n",
       "      <td>RL</td>\n",
       "      <td>NoRidge</td>\n",
       "      <td>Y</td>\n",
       "      <td>Gd</td>\n",
       "      <td>CompShg</td>\n",
       "      <td>Gable</td>\n",
       "      <td>Normal</td>\n",
       "      <td>WD</td>\n",
       "      <td>Pave</td>\n",
       "      <td>AllPub</td>\n",
       "    </tr>\n",
       "  </tbody>\n",
       "</table>\n",
       "<p>5 rows × 79 columns</p>\n",
       "</div>"
      ],
      "text/plain": [
       "   1stFlrSF  2ndFlrSF  3SsnPorch  bedroomabvgr  bsmtfinsf1  bsmtfinsf2  \\\n",
       "0       856       854          0             3         706           0   \n",
       "1      1262         0          0             3         978           0   \n",
       "2       920       866          0             3         486           0   \n",
       "3       961       756          0             3         216           0   \n",
       "4      1145      1053          0             4         655           0   \n",
       "\n",
       "   bsmtfullbath  bsmthalfbath  bsmtunfsf  enclosedporch    ...      mszoning  \\\n",
       "0             1             0        150              0    ...            RL   \n",
       "1             0             1        284              0    ...            RL   \n",
       "2             1             0        434              0    ...            RL   \n",
       "3             1             0        540            272    ...            RL   \n",
       "4             1             0        490              0    ...            RL   \n",
       "\n",
       "   neighborhood  paveddrive  poolqc  roofmatl  roofstyle  salecondition  \\\n",
       "0       CollgCr           Y      Gd   CompShg      Gable         Normal   \n",
       "1       Veenker           Y      Gd   CompShg      Gable         Normal   \n",
       "2       CollgCr           Y      Gd   CompShg      Gable         Normal   \n",
       "3       Crawfor           Y      Gd   CompShg      Gable        Abnorml   \n",
       "4       NoRidge           Y      Gd   CompShg      Gable         Normal   \n",
       "\n",
       "   saletype  street  utilities  \n",
       "0        WD    Pave     AllPub  \n",
       "1        WD    Pave     AllPub  \n",
       "2        WD    Pave     AllPub  \n",
       "3        WD    Pave     AllPub  \n",
       "4        WD    Pave     AllPub  \n",
       "\n",
       "[5 rows x 79 columns]"
      ]
     },
     "execution_count": 33,
     "metadata": {},
     "output_type": "execute_result"
    }
   ],
   "source": [
    "feature_df.head()"
   ]
  },
  {
   "cell_type": "code",
   "execution_count": 34,
   "metadata": {
    "collapsed": true
   },
   "outputs": [],
   "source": [
    "target_df = merged_df['saleprice']"
   ]
  },
  {
   "cell_type": "code",
   "execution_count": 35,
   "metadata": {
    "scrolled": true
   },
   "outputs": [
    {
     "data": {
      "text/plain": [
       "0    208500\n",
       "1    181500\n",
       "2    223500\n",
       "3    140000\n",
       "4    250000\n",
       "Name: saleprice, dtype: int64"
      ]
     },
     "execution_count": 35,
     "metadata": {},
     "output_type": "execute_result"
    }
   ],
   "source": [
    "target_df.head()"
   ]
  },
  {
   "cell_type": "code",
   "execution_count": 36,
   "metadata": {
    "collapsed": true
   },
   "outputs": [],
   "source": [
    "feature_df.to_csv('../data/feature.csv')"
   ]
  },
  {
   "cell_type": "code",
   "execution_count": 37,
   "metadata": {
    "collapsed": true
   },
   "outputs": [],
   "source": [
    "target_df.to_csv('../data/target.csv')"
   ]
  },
  {
   "cell_type": "code",
   "execution_count": 38,
   "metadata": {
    "collapsed": true
   },
   "outputs": [],
   "source": [
    "final_train = merged_df.drop(['id'],axis=1)"
   ]
  },
  {
   "cell_type": "code",
   "execution_count": 39,
   "metadata": {
    "collapsed": true
   },
   "outputs": [],
   "source": [
    "final_train.to_csv('../data/final_train.csv')"
   ]
  }
 ],
 "metadata": {
  "kernelspec": {
   "display_name": "Python 3",
   "language": "python",
   "name": "python3"
  },
  "language_info": {
   "codemirror_mode": {
    "name": "ipython",
    "version": 3
   },
   "file_extension": ".py",
   "mimetype": "text/x-python",
   "name": "python",
   "nbconvert_exporter": "python",
   "pygments_lexer": "ipython3",
   "version": "3.6.3"
  }
 },
 "nbformat": 4,
 "nbformat_minor": 2
}
